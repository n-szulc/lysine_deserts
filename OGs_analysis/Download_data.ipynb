{
 "cells": [
  {
   "cell_type": "markdown",
   "metadata": {},
   "source": [
    "# Prepare data for the analysis of lysine deserts in selected Orthologous Groups (OGs) from the eggNOG5 database\n",
    "\n",
    "<br />\n",
    "\n",
    "**It is necessary to download data from the eggNOG5 database** - run cells from par. 2. \n",
    "\n",
    "Par. 3-6 may be omitted, so the authors' preprocessed data will be used in further analysis."
   ]
  },
  {
   "cell_type": "markdown",
   "metadata": {},
   "source": [
    "# 1. Import libraries and select taxonomic ranks to analyze"
   ]
  },
  {
   "cell_type": "code",
   "execution_count": 2,
   "metadata": {},
   "outputs": [],
   "source": [
    "import pandas as pd\n",
    "import pickle\n",
    "import numpy as np\n",
    "import statistics\n",
    "import sys\n",
    "import csv\n",
    "csv.field_size_limit(sys.maxsize)\n",
    "import gzip\n",
    "import os\n",
    "from Bio import AlignIO\n",
    "from Bio import SeqIO\n",
    "from ipywidgets import Text, HBox, Label\n",
    "from IPython.display import Markdown, display\n",
    "\n",
    "from ete3 import NCBITaxa\n",
    "ncbi = NCBITaxa()"
   ]
  },
  {
   "cell_type": "code",
   "execution_count": 3,
   "metadata": {},
   "outputs": [],
   "source": [
    "# Provide NCBI ID of selected eukaryotic families/order\n",
    "eukaryota = ['4893', '6236', '7214', '9989', '9604']"
   ]
  },
  {
   "cell_type": "markdown",
   "metadata": {},
   "source": [
    "# 2. Download data\n",
    "\n",
    "Download Orthologous Groups (OGs) data *Saccharomycetaceae, Rhabditida, Drosophilidae, Rodentia*, and *Hominidae*."
   ]
  },
  {
   "cell_type": "code",
   "execution_count": null,
   "metadata": {},
   "outputs": [],
   "source": [
    "%%bash -s \"{\" \".join(eukaryota)}\" \n",
    "mkdir -p data\n",
    "\n",
    "# Download data\n",
    "for i in $1; do mkdir -p data/$i; wget -e robots=off -P data/$i/ http://eggnog5.embl.de/download/eggnog_5.0/per_tax_level/$i/${i}_members.tsv.gz; wget -e robots=off -P data/$i/ http://eggnog5.embl.de/download/eggnog_5.0/per_tax_level/$i/${i}_raw_algs.tar; wget -e robots=off -P data/$i/ http://eggnog5.embl.de/download/eggnog_5.0/per_tax_level/$i/${i}_annotations.tsv.gz; done\n",
    "\n",
    "# Untar directory with MSA files\n",
    "for i in $1; do tar xf data/$i/${i}_raw_algs.tar -C data/$i/; done"
   ]
  },
  {
   "cell_type": "markdown",
   "metadata": {},
   "source": [
    "# 3. Select OGs' MSA files for further analyses\n",
    "\n",
    "Select MSA files from OG of each of the abovementioned eukaryotic family/order which fulfill the following conditions:\n",
    "\n",
    "1. presence of minimum four sequences\n",
    "2. presence of minimum 60% of taxonomic group’s taxons \n",
    "3. median protein length of minimum 150 aa\n",
    "4. mean number of protein transmembrane helices of maximum 2.0\n",
    "5. presence of at least one sequence from the representative organism for particular taxonomic group - representative organisms are *S. cerevisiae*, *C. elegans*, *D. melanogaster*, *M. musculus*, and *H. sapiens* \n",
    "\n"
   ]
  },
  {
   "cell_type": "markdown",
   "metadata": {},
   "source": [
    "## 3.1. Calculate maximum number of taxons in each downloaded eukaryotic family/order"
   ]
  },
  {
   "cell_type": "code",
   "execution_count": 3,
   "metadata": {},
   "outputs": [],
   "source": [
    "taxon_dict = {}\n",
    "\n",
    "for group in eukaryota:\n",
    "    taxon_set = set()\n",
    "    df = pd.read_csv('data/{}/{}_members.tsv.gz'.format(group, group), sep = '\\t', header = None)\n",
    "\n",
    "    for taxon_row in df[5].values:\n",
    "        taxons = taxon_row.split(',')\n",
    "        for taxon in taxons:\n",
    "            taxon_set.add(taxon)\n",
    "        \n",
    "    taxon_dict[group] = len(taxon_set)"
   ]
  },
  {
   "cell_type": "markdown",
   "metadata": {},
   "source": [
    "## 3.2. Exclude MSAs which do not fulfill conditions 1-3 & 5\n",
    "\n",
    "Create the \"pre-filtered\" MSA files lists"
   ]
  },
  {
   "cell_type": "code",
   "execution_count": 4,
   "metadata": {},
   "outputs": [],
   "source": [
    "# Eukaryotic reference organisms: S. cerevisiae, C. elegans, D. melanogaster, M. musculus, H. sapiens\n",
    "eukaryotic_orgs = {'4893': '4932', '6236': '6239', '7214': '7227', '9989': '10090', '9604':'9606'} \n",
    "# Minimal number of sequences in MSA\n",
    "min_no_MSA_sequences = 4 \n",
    "# Minimal fraction of taxonomic group's taxons present in MSA\n",
    "min_MSA_taxon_coverage = 0.6 \n",
    "\n",
    "# Minimal median protein length in MSA in Bacteria\n",
    "min_MSA_median_prot_length_bacteria = 150\n",
    "# Minimal median protein length in MSA in Eukaryota\n",
    "min_MSA_median_prot_length_eukaryota = 150\n",
    "\n",
    "class CheckMedian():\n",
    "\n",
    "    def __init__(self, MSA):\n",
    "        \"\"\"Open, read and parse alignment file\n",
    "        \n",
    "        :param MSA: path to alignment file\n",
    "        :type MSA: str\n",
    "        :return: parsed alignment file object\n",
    "        :rtype: Bio.Align.MultipleSeqAlignment\n",
    "        \"\"\"\n",
    "        \n",
    "        f = gzip.open(MSA, \"rt\")\n",
    "        alignment = AlignIO.read(f, \"fasta\")\n",
    "        f.close()\n",
    "        \n",
    "        self.matrix = np.array([list(rec) for rec in alignment], order=\"F\")\n",
    "\n",
    "    def __get_seq(self, idx):\n",
    "        \"\"\"Get sequence with particular index from alignment\n",
    "        \n",
    "        :param idx: sequence index in alignment matrix\n",
    "        :type idx: int\n",
    "        :return: sequence without dashes\n",
    "        :rtype: str\n",
    "        \"\"\"\n",
    "        \n",
    "        return ''.join(self.matrix[idx]).replace('-', '')\n",
    "\n",
    "    def calculate_median_seq_length(self):\n",
    "        \"\"\"Calculate median of sequence length of given alignment\n",
    "        \n",
    "        :return: median sequence length\n",
    "        :rtype: float\n",
    "        \"\"\"\n",
    "\n",
    "        all_seq_lengths = []\n",
    "        \n",
    "        for seq_index in range(len(self.matrix)):\n",
    "            all_seq_lengths.append(len(self.__get_seq(seq_index))) \n",
    "\n",
    "        return statistics.median(all_seq_lengths)"
   ]
  },
  {
   "cell_type": "code",
   "execution_count": 5,
   "metadata": {},
   "outputs": [],
   "source": [
    "# prepare MSA files lists from OGs of each abovementioned eukaryotic family/order which fulfill conditions 1-3 & 5 described in par. 3\n",
    "eukaryota_filtered_MSAs = {} \n",
    "\n",
    "for group in eukaryota:\n",
    "\n",
    "    eukaryota_filtered_MSAs[group] = []\n",
    "    df = pd.read_csv('data/{}/{}_members.tsv.gz'.format(group, group), sep = '\\t', header = None)\n",
    "\n",
    "    # from all Orthologous Groups, take only those fulfilling conditions 1&2 and in case of eukaryotic taxonomic groups also condition 5\n",
    "    if group in eukaryota:\n",
    "        df = df[(df[2] >= min_no_MSA_sequences) & ((df[3] / taxon_dict[str(group)]) >= min_MSA_taxon_coverage) & (df[5].str.contains(eukaryotic_orgs[group]) == True)]\n",
    "        min_MSA_median = min_MSA_median_prot_length_eukaryota\n",
    "    else:\n",
    "        df = df[(df[2] >= min_no_MSA_sequences) & ((df[3] / taxon_dict[str(group)]) >= min_MSA_taxon_coverage)]\n",
    "        min_MSA_median = min_MSA_median_prot_length_bacteria\n",
    "    \n",
    "    for ident, value in df.iterrows():\n",
    "        MSA_id = value[1]\n",
    "        MSA_parsed = CheckMedian('data/{}/{}/{}.raw_alg.faa.gz'.format(group, group, MSA_id))\n",
    "        median = MSA_parsed.calculate_median_seq_length()\n",
    "\n",
    "        if median >= min_MSA_median:\n",
    "            eukaryota_filtered_MSAs[group].append(MSA_id)"
   ]
  },
  {
   "cell_type": "markdown",
   "metadata": {},
   "source": [
    "## 3.3. Predict number of transmembrane helices (TMH) for the pre-filtered MSA files lists\n",
    "\n",
    "Predict number of transmembrane helices (TMH) for each sequence from all the \"pre-filtered\" MSA files using the standalone version of [TMHMM-2.0](https://services.healthtech.dtu.dk/service.php?TMHMM-2.0) software."
   ]
  },
  {
   "cell_type": "code",
   "execution_count": 4,
   "metadata": {},
   "outputs": [],
   "source": [
    "%%bash\n",
    "mkdir -p results\n",
    "mkdir -p results/TMH_predictions"
   ]
  },
  {
   "cell_type": "markdown",
   "metadata": {},
   "source": [
    "### 3.3.1. Prepare fasta file input for the TMHMM-2.0 software\n",
    "\n",
    "Save sequences from the \"pre-filtered\" MSA files of the abovementioned eukaryotic families/order to one fasta file `TMH/all_prefiltered_seqs.fasta`.\n",
    "\n",
    "* modify sequence headers so they contain information about the family/order and a MSA identifier\n",
    "        \n",
    "    original sequence header\n",
    "    \n",
    "    `>1121949.AQXT01000002_gene2085`\n",
    "        \n",
    "    after edit\n",
    "    \n",
    "    `>69657:43W4A:1121949.AQXT01000002_gene2085`\n",
    "        \n",
    "        \n",
    "* remove dashes from sequence"
   ]
  },
  {
   "cell_type": "code",
   "execution_count": 13,
   "metadata": {},
   "outputs": [],
   "source": [
    "all_fasta = open('results/TMH_predictions/all_prefiltered_seqs.fasta', 'w')\n",
    "\n",
    "for group in eukaryota:\n",
    "    for msa in eukaryota_filtered_MSAs[group]:\n",
    "        \n",
    "        msa_path = 'data/{}/{}/{}.raw_alg.faa.gz'.format(group, group, msa)\n",
    "        f = gzip.open(msa_path, \"rt\")\n",
    "        alignment = AlignIO.read(f, \"fasta\")\n",
    "        \n",
    "        for seq in alignment:\n",
    "            new_id = '>{}:{}:{}\\n'.format(group, msa, seq.description)\n",
    "            all_fasta.write(str(new_id))\n",
    "            all_fasta.write(str(seq.seq).replace('-', '') + '\\n')\n",
    "            \n",
    "        f.close()\n",
    "\n",
    "all_fasta.close()"
   ]
  },
  {
   "cell_type": "markdown",
   "metadata": {},
   "source": [
    "###  3.3.2. Downolad TMHMM-2.0\n",
    "\n",
    "Download the TMHMM-2.0 standalone version [here](https://services.healthtech.dtu.dk/software.php).\n",
    "\n"
   ]
  },
  {
   "cell_type": "markdown",
   "metadata": {},
   "source": [
    "### 3.3.3. Run TMHMM-2.0"
   ]
  },
  {
   "cell_type": "markdown",
   "metadata": {},
   "source": [
    "#### Provide path to TMHMM\n",
    "\n",
    "Simply write it down in the field below \n",
    "\n",
    "e.g. `/Users/ns/Install/tmhmm-2.0c.Linux/tmhmm-2.0c/bin/tmhmm`\n",
    "\n",
    "**Do not hit ENTER after writing it in the field below.**"
   ]
  },
  {
   "cell_type": "code",
   "execution_count": 16,
   "metadata": {},
   "outputs": [
    {
     "data": {
      "application/vnd.jupyter.widget-view+json": {
       "model_id": "333885112bb54705b0067b7b5137e1da",
       "version_major": 2,
       "version_minor": 0
      },
      "text/plain": [
       "HBox(children=(Label(value='Full path to TMHMM-2.0 software:'), Text(value='')))"
      ]
     },
     "metadata": {},
     "output_type": "display_data"
    }
   ],
   "source": [
    "db = HBox([Label('Full path to TMHMM-2.0 software:'), Text()])\n",
    "display(db)"
   ]
  },
  {
   "cell_type": "code",
   "execution_count": null,
   "metadata": {},
   "outputs": [],
   "source": [
    "tmhmm_path = db.children[1].value # get path to TMHMM-2.0 software path from Text object"
   ]
  },
  {
   "cell_type": "markdown",
   "metadata": {},
   "source": [
    "#### Run TMHMM-2.0\n",
    "\n",
    "Run TMHMM-2.0 on `results/TMH_predictions/all_prefiltered_seqs.fasta`. Choose short output & save it to `results/TMH_predictions/tmhmm_results.tsv`."
   ]
  },
  {
   "cell_type": "code",
   "execution_count": null,
   "metadata": {},
   "outputs": [],
   "source": [
    "%%bash -s \"$tmhmm_path\"\n",
    "\n",
    "$1 results/TMH_predictions/all_prefiltered_seqs.fasta >> results/TMH_predictions/tmhmm_results.tsv\n",
    "gzip -9 results/TMH_predictions/tmhmm_results.tsv"
   ]
  },
  {
   "cell_type": "markdown",
   "metadata": {},
   "source": [
    "#### Delete the unnecessary file\n",
    "\n",
    "Delete file with conacatenated sequences from MSA files."
   ]
  },
  {
   "cell_type": "code",
   "execution_count": 17,
   "metadata": {},
   "outputs": [],
   "source": [
    "%%bash\n",
    "rm results/TMH_predictions/all_prefiltered_seqs.fasta"
   ]
  },
  {
   "cell_type": "markdown",
   "metadata": {},
   "source": [
    "### 3.3.4. Create dictionary of predicted number of TMH for each sequence of each MSA\n",
    "\n",
    "Create dictionary \n",
    "```\n",
    "{\n",
    "taxonomic_rank1 : {MSA1.1 : {seq1: X, seq2: Y, ...}, MSA1.2 : {seq1: Z, seq2: W, ...}, ...}, \n",
    "taxonomic_rank2 : {MSA2.1 : {seq1: Z, seq2: W, ...}, MSA2.2 : {seq1: X, seq2: Y, ...}, ...}, \n",
    "...\n",
    "} \n",
    "```\n",
    "\n",
    "where W, X, Y, Z are numbers of predicted TMH."
   ]
  },
  {
   "cell_type": "code",
   "execution_count": 7,
   "metadata": {},
   "outputs": [],
   "source": [
    "# Initialize dictionary\n",
    "tmhmm_dict = {}\n",
    "for group in eukaryota:\n",
    "    tmhmm_dict[group] = {}\n",
    "\n",
    "df = pd.read_csv('results/TMH_predictions/tmhmm_results.tsv.gz', header=None, sep='\\t')\n",
    "df.columns = ['ID', 'Sequence Length', 'ExpAA', 'First60', 'Predicted Helices', 'Topology']\n",
    "# See TMHMM-2.0 documentation for the description of short output fields\n",
    "\n",
    "# Delete PredHel= from all rows of the Predicted Helices column\n",
    "df['Predicted Helices'] = df['Predicted Helices'].str.replace('PredHel=', '')\n",
    "\n",
    "for ident, value in df.iterrows():\n",
    "    \n",
    "    identifiers = value[0].split(':')\n",
    "    taxonomic_group = identifiers[0]\n",
    "    MSA_id = identifiers[1]\n",
    "    seq_id = identifiers[2]\n",
    "    tmh_no = int(value[4])\n",
    "    \n",
    "    if MSA_id not in eukaryota_filtered_MSAs[taxonomic_group]:\n",
    "        continue\n",
    "    \n",
    "    if MSA_id not in tmhmm_dict[taxonomic_group].keys():\n",
    "        tmhmm_dict[taxonomic_group][MSA_id] = {}\n",
    "    tmhmm_dict[taxonomic_group][MSA_id][seq_id] = tmh_no\n",
    "        \n",
    "\n",
    "with open('results/TMH_predictions/tmhmm_dict.pickle', 'wb') as handle:\n",
    "    pickle.dump(tmhmm_dict, handle, protocol = pickle.HIGHEST_PROTOCOL)"
   ]
  },
  {
   "cell_type": "markdown",
   "metadata": {},
   "source": [
    "## 3.4. Create final lists of selected MSA files for each aforementioned eukaryotic family/order\n",
    "\n",
    "Calculate average number of TMH per sequence for each \"pre-filtered\" MSA file.\n",
    "\n",
    "Discard MSA files for which average number of TMH per sequence is above 2.0, according to condition 4 described in par. 3."
   ]
  },
  {
   "cell_type": "code",
   "execution_count": 8,
   "metadata": {},
   "outputs": [],
   "source": [
    "# Initialize dictionary\n",
    "final_filtered_MSA = {}\n",
    "for group in eukaryota:\n",
    "    final_filtered_MSA[group] = []\n",
    "\n",
    "for group in tmhmm_dict.keys():\n",
    "    for msa in tmhmm_dict[group]:\n",
    "        tmh = []\n",
    "        for seq in tmhmm_dict[group][msa]:\n",
    "            tmh.append(tmhmm_dict[group][msa][seq])\n",
    "        avg_tmh = statistics.mean(tmh)\n",
    "        if avg_tmh <= 2.0:\n",
    "            final_filtered_MSA[group].append(msa)\n",
    "        \n",
    "with open('results/additional/filtered_msa_dict.pickle', 'wb') as handle:\n",
    "    pickle.dump(final_filtered_MSA, handle, protocol = pickle.HIGHEST_PROTOCOL)"
   ]
  },
  {
   "cell_type": "markdown",
   "metadata": {},
   "source": [
    "# 4. Summarize selected MSA files\n",
    "\n",
    "Prepare table `Table_selected_eukaryotic_OGs.tsv` summarizing MSA properties (all MSA files vs. selected MSA files) from the aforementioned eukaryotic family/order.\n",
    "\n",
    "\n",
    "### Indexing\n",
    "\n",
    "Table is indexed by eukaryotic family/order.\n",
    "\n",
    "### Columns description\n",
    "\n",
    "Table contains the following information:\n",
    "\n",
    "| Column  | Description  |\n",
    "|:--|:--|\n",
    "| **Number of all MSA files**  | Number of all MSA files from OGs of a given eukaryotic family/order |\n",
    "| **Number of selected MSA files**  |  Number of MSA files from OGs of a given eukaryotic family/order fulfilling conditions as described in par. 3 of `Download_data.ipynb` |\n",
    "| **Fraction of selected MSA files** | Fraction of selected MSA files among all available MSA files from OGs of a given eukaryotic family/order |\n",
    "| **Median of median lenghts of all MSA files** | Median of all median sequence lengths of all MSA files from OGs of a given eukaryotic family/order |\n",
    "|**Median of median lenghts of selected MSA files** | Median of all median sequence lengths of selected MSA files fulfilling conditions as described in par. 3 of `Download_data.ipynb` from OGs of a given eukaryotic family/order |"
   ]
  },
  {
   "cell_type": "code",
   "execution_count": 9,
   "metadata": {},
   "outputs": [],
   "source": [
    "%%bash\n",
    "#Create results directories\n",
    "mkdir -p results\n",
    "mkdir -p results/supplementary"
   ]
  },
  {
   "cell_type": "code",
   "execution_count": 10,
   "metadata": {},
   "outputs": [],
   "source": [
    "eukaryotes_dict = {'Saccharomycetaceae' : ['4893'], 'Rhabditida' : ['6236'], 'Drosophilidae' : ['7214'], \n",
    "                   'Rodentia' : ['9989'], 'Hominidae' : ['9604']}\n",
    "\n",
    "with open('results/additional/filtered_msa_dict.pickle', 'rb') as handle:\n",
    "    final_filtered_MSA = pickle.load(handle)\n",
    "\n",
    "def make_summary(groups_dict, out_name):\n",
    "    \n",
    "    first_col = 'Eukaryotic family/order'\n",
    "    \n",
    "    columns = [first_col, 'Number of all MSA files', 'Number of filtered MSA files', \n",
    "               'Percentage of filtered MSA files', 'Median of median lenghts of all MSA files', \n",
    "               'Median of median lenghts of filtered MSA files']\n",
    "    summary_table = []\n",
    "    \n",
    "    for key in groups_dict.keys():\n",
    "        all_MSA = 0\n",
    "        all_seq_median_lengths = []\n",
    "        filtered_MSA = 0\n",
    "        filtered_MSA_median_lengths = []\n",
    "\n",
    "        for group in groups_dict[key]:\n",
    "        \n",
    "            df = pd.read_csv('data/{}/{}_members.tsv.gz'.format(group, group), sep = '\\t', header = None)\n",
    "            all_MSA += len(df)\n",
    "            filtered_MSA += len(final_filtered_MSA[group])\n",
    "            \n",
    "            for ident, value in df.iterrows():\n",
    "                eggNOG_id = value[1]\n",
    "                f = gzip.open('data/{}/{}/{}.raw_alg.faa.gz'.format(group, group, eggNOG_id), \"rt\")\n",
    "                all_seqs = list(SeqIO.parse(f, 'fasta'))\n",
    "                lengths = []\n",
    "                for s in all_seqs:\n",
    "                    seq = s.seq\n",
    "                    lengths.append(len(seq.ungap('-')))\n",
    "                f.close()\n",
    "                \n",
    "                all_seq_median_lengths.append(statistics.median(lengths))\n",
    "                \n",
    "                if eggNOG_id in final_filtered_MSA[group]:\n",
    "                    filtered_MSA_median_lengths.append(statistics.median(lengths))\n",
    "                \n",
    "        summary_table.append([key, all_MSA, filtered_MSA, round((filtered_MSA/all_MSA) *100, 2), statistics.median(all_seq_median_lengths), statistics.median(filtered_MSA_median_lengths)])\n",
    "    \n",
    "    df_summary = pd.DataFrame(summary_table, columns = columns)\n",
    "    df_summary.set_index(first_col, inplace=True)\n",
    "    display(df_summary)\n",
    "    df_summary.to_csv('results/supplementary/Table_selected_eukaryotic_OGs.tsv', sep='\\t')"
   ]
  },
  {
   "cell_type": "code",
   "execution_count": 11,
   "metadata": {},
   "outputs": [
    {
     "data": {
      "text/html": [
       "<div>\n",
       "<style scoped>\n",
       "    .dataframe tbody tr th:only-of-type {\n",
       "        vertical-align: middle;\n",
       "    }\n",
       "\n",
       "    .dataframe tbody tr th {\n",
       "        vertical-align: top;\n",
       "    }\n",
       "\n",
       "    .dataframe thead th {\n",
       "        text-align: right;\n",
       "    }\n",
       "</style>\n",
       "<table border=\"1\" class=\"dataframe\">\n",
       "  <thead>\n",
       "    <tr style=\"text-align: right;\">\n",
       "      <th></th>\n",
       "      <th>Number of all MSA files</th>\n",
       "      <th>Number of filtered MSA files</th>\n",
       "      <th>Percentage of filtered MSA files</th>\n",
       "      <th>Median of median lenghts of all MSA files</th>\n",
       "      <th>Median of median lenghts of filtered MSA files</th>\n",
       "    </tr>\n",
       "    <tr>\n",
       "      <th>Eukaryotic family/order</th>\n",
       "      <th></th>\n",
       "      <th></th>\n",
       "      <th></th>\n",
       "      <th></th>\n",
       "      <th></th>\n",
       "    </tr>\n",
       "  </thead>\n",
       "  <tbody>\n",
       "    <tr>\n",
       "      <th>Saccharomycetaceae</th>\n",
       "      <td>5524</td>\n",
       "      <td>3654</td>\n",
       "      <td>66.15</td>\n",
       "      <td>415.25</td>\n",
       "      <td>447.0</td>\n",
       "    </tr>\n",
       "    <tr>\n",
       "      <th>Rhabditida</th>\n",
       "      <td>18187</td>\n",
       "      <td>9123</td>\n",
       "      <td>50.16</td>\n",
       "      <td>337.00</td>\n",
       "      <td>398.0</td>\n",
       "    </tr>\n",
       "    <tr>\n",
       "      <th>Drosophilidae</th>\n",
       "      <td>13686</td>\n",
       "      <td>8638</td>\n",
       "      <td>63.12</td>\n",
       "      <td>404.00</td>\n",
       "      <td>463.0</td>\n",
       "    </tr>\n",
       "    <tr>\n",
       "      <th>Rodentia</th>\n",
       "      <td>21313</td>\n",
       "      <td>12714</td>\n",
       "      <td>59.65</td>\n",
       "      <td>414.00</td>\n",
       "      <td>483.0</td>\n",
       "    </tr>\n",
       "    <tr>\n",
       "      <th>Hominidae</th>\n",
       "      <td>20461</td>\n",
       "      <td>13988</td>\n",
       "      <td>68.36</td>\n",
       "      <td>407.00</td>\n",
       "      <td>478.0</td>\n",
       "    </tr>\n",
       "  </tbody>\n",
       "</table>\n",
       "</div>"
      ],
      "text/plain": [
       "                         Number of all MSA files  \\\n",
       "Eukaryotic family/order                            \n",
       "Saccharomycetaceae                          5524   \n",
       "Rhabditida                                 18187   \n",
       "Drosophilidae                              13686   \n",
       "Rodentia                                   21313   \n",
       "Hominidae                                  20461   \n",
       "\n",
       "                         Number of filtered MSA files  \\\n",
       "Eukaryotic family/order                                 \n",
       "Saccharomycetaceae                               3654   \n",
       "Rhabditida                                       9123   \n",
       "Drosophilidae                                    8638   \n",
       "Rodentia                                        12714   \n",
       "Hominidae                                       13988   \n",
       "\n",
       "                         Percentage of filtered MSA files  \\\n",
       "Eukaryotic family/order                                     \n",
       "Saccharomycetaceae                                  66.15   \n",
       "Rhabditida                                          50.16   \n",
       "Drosophilidae                                       63.12   \n",
       "Rodentia                                            59.65   \n",
       "Hominidae                                           68.36   \n",
       "\n",
       "                         Median of median lenghts of all MSA files  \\\n",
       "Eukaryotic family/order                                              \n",
       "Saccharomycetaceae                                          415.25   \n",
       "Rhabditida                                                  337.00   \n",
       "Drosophilidae                                               404.00   \n",
       "Rodentia                                                    414.00   \n",
       "Hominidae                                                   407.00   \n",
       "\n",
       "                         Median of median lenghts of filtered MSA files  \n",
       "Eukaryotic family/order                                                  \n",
       "Saccharomycetaceae                                                447.0  \n",
       "Rhabditida                                                        398.0  \n",
       "Drosophilidae                                                     463.0  \n",
       "Rodentia                                                          483.0  \n",
       "Hominidae                                                         478.0  "
      ]
     },
     "metadata": {},
     "output_type": "display_data"
    }
   ],
   "source": [
    "make_summary(eukaryotes_dict, 'Eukaryotes')"
   ]
  },
  {
   "cell_type": "markdown",
   "metadata": {},
   "source": [
    "# 5. Get information about Gene Symbols associated with sequences from selected MSA files\n",
    "\n",
    "eggNOG5 provides 14 GB file [e5.sequence_aliases.tsv](http://eggnog5.embl.de/download/eggnog_5.0/e5.sequence_aliases.tsv) with multiple information about each sequence including its Gene Symbols.\n"
   ]
  },
  {
   "cell_type": "markdown",
   "metadata": {},
   "source": [
    "## 5.1. Download e5.sequence_aliases.tsv"
   ]
  },
  {
   "cell_type": "code",
   "execution_count": null,
   "metadata": {},
   "outputs": [],
   "source": [
    "%%bash\n",
    "mkdir -p files\n",
    "wget http://eggnog5.embl.de/download/eggnog_5.0/e5.sequence_aliases.tsv -P files"
   ]
  },
  {
   "cell_type": "markdown",
   "metadata": {},
   "source": [
    "## 5.2. Trim e5.sequence_aliases.tsv\n",
    "\n",
    "Cut lines containing only information about Gene Symbols from `files/e5.sequence_aliases.tsv` to reduce file size for further processing."
   ]
  },
  {
   "cell_type": "code",
   "execution_count": 17,
   "metadata": {},
   "outputs": [],
   "source": [
    "%%bash\n",
    "grep -E \"BLAST_KEGG_NAME|RefSeq_gene\" files/e5.sequence_aliases.tsv | grep -vE \"BLAST_KEGG_NAME_SYNONYM|Ensembl_EntrezGene_synonym|RefSeq_synonym\" > files/e5.sequence_aliases_trimmed.tsv"
   ]
  },
  {
   "cell_type": "markdown",
   "metadata": {},
   "source": [
    "## 5.3. Map sequence ID to Gene Symbol"
   ]
  },
  {
   "cell_type": "code",
   "execution_count": 21,
   "metadata": {},
   "outputs": [],
   "source": [
    "seqID_gene_symbol = {}\n",
    "with open('files/e5.sequence_aliases_trimmed.tsv') as f:\n",
    "    reader = csv.reader(f, delimiter=\"\\t\")\n",
    "    for line in reader:\n",
    "        if len(line[1]) < 11 and (any(char.isalpha() for char in line[1])): # to get proper gene symbols, working in most cases\n",
    "            seqID_gene_symbol[line[0]] = line[1].lower()\n",
    "            \n",
    "with open('results/additional/SequenceID_to_GeneSymbol.pickle', 'wb') as handle:\n",
    "    pickle.dump(seqID_gene_symbol, handle, protocol = pickle.HIGHEST_PROTOCOL)"
   ]
  },
  {
   "cell_type": "markdown",
   "metadata": {},
   "source": [
    "### Gzip files"
   ]
  },
  {
   "cell_type": "code",
   "execution_count": 22,
   "metadata": {},
   "outputs": [],
   "source": [
    "%%bash\n",
    "gzip -9 files/e5.sequence_aliases.tsv\n",
    "gzip -9 files/e5.sequence_aliases_trimmed.tsv"
   ]
  },
  {
   "cell_type": "markdown",
   "metadata": {},
   "source": [
    "# 6. Prepare vectors of corresponding Orthologous Groups\n",
    "\n",
    "Prepare table with corresponding filtered MSA files from the aforementioned eukaryotic family/order.\n",
    "\n",
    "---\n",
    "\n",
    "We will obtain orthologous sequences from the OGs constructed by the eggNOG5 database for **Ophistokonta**. \n",
    "\n",
    "These are lower quality alignments due to evolutionary distances between taxons (e.g. both yeast and primates belong to Ophistokonta), but we can use information which sequences are orthologous to construct vectors of corresponding MSA files, however for the aforementioned eukaryotic families/order.\n",
    "\n",
    "e.g.\n",
    "\n",
    "Ophistokonta alignment\n",
    "```\n",
    ">seq1.yeast\n",
    "AAAA---------------\n",
    ">seq2.drosophilidae\n",
    "------AAAAA--------\n",
    ">seq3.hominidae\n",
    "---------------AAAA\n",
    "```\n",
    "\n",
    "We checked previously and know, that \n",
    "* seq1.yeast can be found in MSA_A.yeast\n",
    "* seq2.drosophilidae can be found in MSA_B.drosophilidae\n",
    "* seq3.hominidae can be found in MSA_C.hominidae.\n",
    "\n",
    "**Our vector will be as follows**:\n",
    "\n",
    "MSA_A.yeast; MSA_B.drosophilidae; MSA_C.hominidae"
   ]
  },
  {
   "cell_type": "markdown",
   "metadata": {},
   "source": [
    "## 6.1. Read and download data"
   ]
  },
  {
   "cell_type": "code",
   "execution_count": 5,
   "metadata": {},
   "outputs": [],
   "source": [
    "with open('results/additional/filtered_msa_dict.pickle', 'rb') as handle:\n",
    "    final_filtered_MSA = pickle.load(handle)\n",
    "with open('results/additional/SequenceID_to_GeneSymbol.pickle', 'rb') as handle:\n",
    "    seqID_gene_symbol = pickle.load(handle)"
   ]
  },
  {
   "cell_type": "code",
   "execution_count": null,
   "metadata": {},
   "outputs": [],
   "source": [
    "%%bash\n",
    "mkdir -p results/vectors\n",
    "\n",
    "# Download Ophistokonta Orthologous Groups summary and COG annotations files\n",
    "wget -O results/vectors/ophistokonta_OGs.tsv.gz http://eggnog5.embl.de/download/eggnog_5.0/per_tax_level/33154/33154_members.tsv.gz \n",
    "wget -O results/vectors/ophistokonta_COG.tsv.gz http://eggnog5.embl.de/download/eggnog_5.0/per_tax_level/33154/33154_annotations.tsv.gz"
   ]
  },
  {
   "cell_type": "markdown",
   "metadata": {},
   "source": [
    "## 6.2. Map sequence ID to its MSA file name"
   ]
  },
  {
   "cell_type": "code",
   "execution_count": 13,
   "metadata": {},
   "outputs": [],
   "source": [
    "def create_all_genes_dict(taxonomic_groups):\n",
    "    \"\"\"Create dictionary mapping each sequence ID (from all filtered MSA files) to MSA file name.\"\"\"\n",
    "    \n",
    "    seq_id_dict = {}\n",
    "    \n",
    "    for group in taxonomic_groups:\n",
    "        \n",
    "        df = pd.read_csv('data/{}/{}_members.tsv.gz'.format(group, group), sep='\\t', header=None)\n",
    "        \n",
    "        MSA = list(df[1].values)\n",
    "        genes = list(df[4].values)\n",
    "        \n",
    "        for i in range(len(genes)):\n",
    "            if MSA[i] not in final_filtered_MSA[group]:\n",
    "                continue\n",
    "                \n",
    "            all_genes = genes[i].split(',')\n",
    "            for gene in all_genes:\n",
    "                seq_id_dict[gene] = '{}/{}/{}.raw_alg.faa.gz'.format(group, group, MSA[i])\n",
    "                \n",
    "    return seq_id_dict"
   ]
  },
  {
   "cell_type": "code",
   "execution_count": 15,
   "metadata": {},
   "outputs": [],
   "source": [
    "seq_id_dict = create_all_genes_dict(eukaryota)"
   ]
  },
  {
   "cell_type": "markdown",
   "metadata": {},
   "source": [
    "## 6.3. Map Ophistokonta MSA ID to its COG annotation"
   ]
  },
  {
   "cell_type": "code",
   "execution_count": 16,
   "metadata": {},
   "outputs": [],
   "source": [
    "with gzip.open('results/vectors/ophistokonta_COG.tsv.gz', \"rt\") as f:   \n",
    "    ophistokonta_cog_dict = {}\n",
    "    reader = csv.reader(f, delimiter=\"\\t\")\n",
    "\n",
    "    for line in reader:\n",
    "        MSA_id = line[1]\n",
    "        COG = line[2]\n",
    "        ophistokonta_cog_dict[MSA_id] = COG"
   ]
  },
  {
   "cell_type": "markdown",
   "metadata": {},
   "source": [
    "## Construct and save vectors\n",
    "\n",
    "Prepare table `eukaryotes_vectors.tsv.gz` with corresponding orthologous MSA IDs on the level of each selected eukaryotic family/order. \n",
    "\n",
    "\n",
    "### Indexing\n",
    "\n",
    "Table is indexed by Ophistokonta OG ID. \n",
    "\n",
    "### Columns description\n",
    "\n",
    "Table contains the following information for each Ophistokonta OG:\n",
    "\n",
    "| Column  | Description  |\n",
    "|:--|:--|\n",
    "| **MSA paths**  | Paths to orthologous MSA files on the level of each selected eukaryotic family/order |\n",
    "| **OG summary**  | Summary of names and numbers of OGs among selected eukaryotic families/orders |\n",
    "|  **Genes** | Gene symbols among selected eukaryotic families/orders |\n",
    "| **Number of proteins** | Total number of orthologous proteins from selected eukaryotic families/orders |\n",
    "| **Number of taxons** | Total number of taxons from selected eukaryotic families/orders |\n",
    "| **Number of taxonomic ranks** | Total number of selected eukaryotic families/orders |\n",
    "| **Number of MSA files** | Total number of MSA files among selected eukaryotic families/orders|\n",
    "| **COG** | COG annotation for Ophistokonta OG|"
   ]
  },
  {
   "cell_type": "code",
   "execution_count": 24,
   "metadata": {},
   "outputs": [],
   "source": [
    "def create_vectors(taxonomic_groups, out_name):\n",
    "    \n",
    "    vectors_dict = {}\n",
    "    \n",
    "    with gzip.open('results/vectors/ophistokonta_OGs.tsv.gz', \"rt\") as f:\n",
    "    \n",
    "        reader = csv.reader(f, delimiter=\"\\t\")\n",
    "        \n",
    "        for line in reader:\n",
    "            all_proteins = line[4].split(',')\n",
    "            MSA_set = set()\n",
    "            OG_set = set()\n",
    "            OG_dict = {}\n",
    "            prot_names_set = set()\n",
    "            \n",
    "            for prot in all_proteins:\n",
    "                if prot in seq_id_dict.keys(): # we will construct vectors with filtered MSA files only\n",
    "                    \n",
    "                    taxid = str(seq_id_dict[prot].split('/')[0])\n",
    "                    if taxid in taxonomic_groups: # make set only for selected taxonomic groups\n",
    "                        \n",
    "                        MSA_set.add(seq_id_dict[prot])\n",
    "                        OG_set.add(seq_id_dict[prot].split('/')[0])\n",
    "\n",
    "                        if taxid not in OG_dict.keys():\n",
    "                            OG_dict[taxid] = 0\n",
    "\n",
    "                        if prot in seqID_gene_symbol.keys():\n",
    "                            prot_names_set.add(seqID_gene_symbol[prot])\n",
    "          \n",
    "            OG_names = ncbi.get_taxid_translator(list(OG_set))\n",
    "            new_dict = {}\n",
    "\n",
    "            for el in MSA_set:\n",
    "                taxid = el.split('/')[0]\n",
    "                OG_dict[taxid] += 1\n",
    "                \n",
    "            for key in OG_dict.keys():\n",
    "                    \n",
    "                new_dict[OG_names[int(key)]] = OG_dict[key]\n",
    "                \n",
    "            if len(MSA_set) > 1 and len(OG_set) > 1: # vector contains minimum two taxonomic groups\n",
    "                vectors_dict[line[1]] = [','.join(list(MSA_set)), new_dict, ','.join(list(prot_names_set)), \n",
    "                                         int(line[2]), int(line[3]), len(OG_set), len(MSA_set),\n",
    "                                         ophistokonta_cog_dict[line[1]]]\n",
    "    \n",
    "    df = pd.DataFrame.from_dict(vectors_dict, orient='index')\n",
    "    df.columns = ['MSA paths', 'OG summary', 'Genes', 'Number of proteins', \n",
    "                  'Number of taxons', 'Number of taxonomic ranks', \n",
    "                  'Number of MSA files', 'COG']\n",
    "    df.index.name = 'Ophistokonta OG ID'\n",
    "    \n",
    "    save_vectors_path = 'results/vectors'\n",
    "    if not os.path.exists(save_vectors_path):\n",
    "        os.makedirs(save_vectors_path) \n",
    "\n",
    "    df.to_csv('results/vectors/{}_vectors.tsv.gz'.format(out_name), sep='\\t', compression='gzip')"
   ]
  },
  {
   "cell_type": "code",
   "execution_count": 25,
   "metadata": {},
   "outputs": [],
   "source": [
    "create_vectors(eukaryota, 'eukaryotes')"
   ]
  },
  {
   "cell_type": "code",
   "execution_count": 6,
   "metadata": {},
   "outputs": [
    {
     "data": {
      "text/markdown": [
       "### Sample of constructed orthologous MSA files table for <br /> Saccharomycetaceae, Rhabditida, Drosophilidae, Rodentia, and Hominidae"
      ],
      "text/plain": [
       "<IPython.core.display.Markdown object>"
      ]
     },
     "metadata": {},
     "output_type": "display_data"
    },
    {
     "data": {
      "text/html": [
       "<div>\n",
       "<style scoped>\n",
       "    .dataframe tbody tr th:only-of-type {\n",
       "        vertical-align: middle;\n",
       "    }\n",
       "\n",
       "    .dataframe tbody tr th {\n",
       "        vertical-align: top;\n",
       "    }\n",
       "\n",
       "    .dataframe thead th {\n",
       "        text-align: right;\n",
       "    }\n",
       "</style>\n",
       "<table border=\"1\" class=\"dataframe\">\n",
       "  <thead>\n",
       "    <tr style=\"text-align: right;\">\n",
       "      <th></th>\n",
       "      <th>Ophistokonta OG ID</th>\n",
       "      <th>MSA paths</th>\n",
       "      <th>OG summary</th>\n",
       "      <th>Genes</th>\n",
       "      <th>Number of proteins</th>\n",
       "      <th>Number of taxons</th>\n",
       "      <th>Number of taxonomic ranks</th>\n",
       "      <th>Number of MSA files</th>\n",
       "      <th>COG</th>\n",
       "    </tr>\n",
       "  </thead>\n",
       "  <tbody>\n",
       "    <tr>\n",
       "      <th>0</th>\n",
       "      <td>38B3U</td>\n",
       "      <td>9989/9989/4PSAG.raw_alg.faa.gz,9604/9604/4MZTR...</td>\n",
       "      <td>{'Rodentia': 1, 'Hominidae': 1}</td>\n",
       "      <td>usf3,kiaa2018</td>\n",
       "      <td>179</td>\n",
       "      <td>157</td>\n",
       "      <td>2</td>\n",
       "      <td>2</td>\n",
       "      <td>K</td>\n",
       "    </tr>\n",
       "    <tr>\n",
       "      <th>1</th>\n",
       "      <td>38B3V</td>\n",
       "      <td>6236/6236/40UNT.raw_alg.faa.gz,9989/9989/4PUU6...</td>\n",
       "      <td>{'Rodentia': 4, 'Rhabditida': 1, 'Hominidae': 4}</td>\n",
       "      <td>ctnnd2,arvcf,jac-1,ctnnd1,cbr-jac-1,pkp4</td>\n",
       "      <td>546</td>\n",
       "      <td>152</td>\n",
       "      <td>3</td>\n",
       "      <td>9</td>\n",
       "      <td>TW</td>\n",
       "    </tr>\n",
       "    <tr>\n",
       "      <th>2</th>\n",
       "      <td>38B3W</td>\n",
       "      <td>9604/9604/4N2E5.raw_alg.faa.gz,9989/9989/4Q1E1...</td>\n",
       "      <td>{'Rodentia': 1, 'Hominidae': 1}</td>\n",
       "      <td>fkbp14</td>\n",
       "      <td>142</td>\n",
       "      <td>125</td>\n",
       "      <td>2</td>\n",
       "      <td>2</td>\n",
       "      <td>O</td>\n",
       "    </tr>\n",
       "    <tr>\n",
       "      <th>3</th>\n",
       "      <td>38B3X</td>\n",
       "      <td>9989/9989/4Q2TC.raw_alg.faa.gz,7214/7214/45XNB...</td>\n",
       "      <td>{'Rodentia': 3, 'Rhabditida': 1, 'Drosophilida...</td>\n",
       "      <td>lamc1,lam-2,lanb2,cbr-lam-2,dyak_lanb2,dere_la...</td>\n",
       "      <td>464</td>\n",
       "      <td>163</td>\n",
       "      <td>4</td>\n",
       "      <td>8</td>\n",
       "      <td>W</td>\n",
       "    </tr>\n",
       "    <tr>\n",
       "      <th>4</th>\n",
       "      <td>38B3Y</td>\n",
       "      <td>7214/7214/45VNG.raw_alg.faa.gz,9604/9604/4N26V...</td>\n",
       "      <td>{'Saccharomycetaceae': 1, 'Rhabditida': 1, 'Dr...</td>\n",
       "      <td>nsa2,dyak_ip259,w09c5.1,ip259</td>\n",
       "      <td>387</td>\n",
       "      <td>338</td>\n",
       "      <td>4</td>\n",
       "      <td>4</td>\n",
       "      <td>J</td>\n",
       "    </tr>\n",
       "  </tbody>\n",
       "</table>\n",
       "</div>"
      ],
      "text/plain": [
       "  Ophistokonta OG ID                                          MSA paths  \\\n",
       "0              38B3U  9989/9989/4PSAG.raw_alg.faa.gz,9604/9604/4MZTR...   \n",
       "1              38B3V  6236/6236/40UNT.raw_alg.faa.gz,9989/9989/4PUU6...   \n",
       "2              38B3W  9604/9604/4N2E5.raw_alg.faa.gz,9989/9989/4Q1E1...   \n",
       "3              38B3X  9989/9989/4Q2TC.raw_alg.faa.gz,7214/7214/45XNB...   \n",
       "4              38B3Y  7214/7214/45VNG.raw_alg.faa.gz,9604/9604/4N26V...   \n",
       "\n",
       "                                          OG summary  \\\n",
       "0                    {'Rodentia': 1, 'Hominidae': 1}   \n",
       "1   {'Rodentia': 4, 'Rhabditida': 1, 'Hominidae': 4}   \n",
       "2                    {'Rodentia': 1, 'Hominidae': 1}   \n",
       "3  {'Rodentia': 3, 'Rhabditida': 1, 'Drosophilida...   \n",
       "4  {'Saccharomycetaceae': 1, 'Rhabditida': 1, 'Dr...   \n",
       "\n",
       "                                               Genes  Number of proteins  \\\n",
       "0                                      usf3,kiaa2018                 179   \n",
       "1           ctnnd2,arvcf,jac-1,ctnnd1,cbr-jac-1,pkp4                 546   \n",
       "2                                             fkbp14                 142   \n",
       "3  lamc1,lam-2,lanb2,cbr-lam-2,dyak_lanb2,dere_la...                 464   \n",
       "4                      nsa2,dyak_ip259,w09c5.1,ip259                 387   \n",
       "\n",
       "   Number of taxons  Number of taxonomic ranks  Number of MSA files COG  \n",
       "0               157                          2                    2   K  \n",
       "1               152                          3                    9  TW  \n",
       "2               125                          2                    2   O  \n",
       "3               163                          4                    8   W  \n",
       "4               338                          4                    4   J  "
      ]
     },
     "execution_count": 6,
     "metadata": {},
     "output_type": "execute_result"
    }
   ],
   "source": [
    "df_vectors = pd.read_csv('results/vectors/eukaryotes_vectors.tsv.gz', sep='\\t')\n",
    "display(Markdown('### Sample of constructed orthologous MSA files table for <br /> Saccharomycetaceae, Rhabditida, Drosophilidae, Rodentia, and Hominidae'))\n",
    "df_vectors.head()"
   ]
  }
 ],
 "metadata": {
  "kernelspec": {
   "display_name": "Python 3 (ipykernel)",
   "language": "python",
   "name": "python3"
  },
  "language_info": {
   "codemirror_mode": {
    "name": "ipython",
    "version": 3
   },
   "file_extension": ".py",
   "mimetype": "text/x-python",
   "name": "python",
   "nbconvert_exporter": "python",
   "pygments_lexer": "ipython3",
   "version": "3.9.15"
  }
 },
 "nbformat": 4,
 "nbformat_minor": 2
}
