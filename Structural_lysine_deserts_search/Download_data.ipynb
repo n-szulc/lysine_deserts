{
 "cells": [
  {
   "cell_type": "markdown",
   "metadata": {},
   "source": [
    "# Prepare data for structural lysine desert search\n",
    "\n",
    "\n",
    "<br />\n",
    "\n",
    "Run this Jupyter Notebook to download models of human proteome from the [AlphaFold\n",
    "Protein Structure Database](https://alphafold.ebi.ac.uk) required to conduct structural lysine desert search."
   ]
  },
  {
   "cell_type": "markdown",
   "metadata": {},
   "source": [
    "# 1. Download data"
   ]
  },
  {
   "cell_type": "code",
   "execution_count": null,
   "metadata": {},
   "outputs": [],
   "source": [
    "%%bash\n",
    "\n",
    "mkdir -p data/Afold_structures/H_sapiens\n",
    "\n",
    "download_from_afold() {\n",
    "    #wget http://ftp.ebi.ac.uk/pub/databases/alphafold/v3/$1 -O data/Afold_structures/H_sapiens/Afold_orig.tar\n",
    "    tar -xf data/Afold_structures/H_sapiens/Afold_orig.tar -C data/Afold_structures/H_sapiens/\n",
    "    # remove cif files\n",
    "    find data/Afold_structures/H_sapiens/ -type f -name *cif.gz -exec rm {} \\; \n",
    "    # ungzip all files\n",
    "    find data/Afold_structures/H_sapiens/ -type f -name *pdb.gz -exec gzip -d \"{}\" \\;\n",
    "}\n",
    "\n",
    "# ID of the human proteome v3 from the AlphaFold Protein Structure Database \n",
    "human_proteome_id=UP000005640_9606_HUMAN_v3.tar\n",
    "\n",
    "download_from_afold $human_proteome_id"
   ]
  },
  {
   "cell_type": "markdown",
   "metadata": {},
   "source": [
    "# 2. Prepare list of noncontinuous models\n",
    "\n",
    "For proteins longer than 2700 aa, the AlphaFold Protein Structure Database provides their 1400 aa long, overlapping fragments splitted to separate files.\n",
    "\n",
    "We will prepare a list of such structures to exclude them from our analyses."
   ]
  },
  {
   "cell_type": "code",
   "execution_count": 15,
   "metadata": {},
   "outputs": [],
   "source": [
    "%%bash\n",
    "\n",
    "cd data/Afold_structures/H_sapiens/\n",
    "\n",
    "for i in `ls`; do find $i | grep F2-model | cut -f2 -d\"-\" >> ../human_models_to_exclude.txt; done"
   ]
  }
 ],
 "metadata": {
  "kernelspec": {
   "display_name": "Python 3 (ipykernel)",
   "language": "python",
   "name": "python3"
  },
  "language_info": {
   "codemirror_mode": {
    "name": "ipython",
    "version": 3
   },
   "file_extension": ".py",
   "mimetype": "text/x-python",
   "name": "python",
   "nbconvert_exporter": "python",
   "pygments_lexer": "ipython3",
   "version": "3.9.15"
  }
 },
 "nbformat": 4,
 "nbformat_minor": 2
}
