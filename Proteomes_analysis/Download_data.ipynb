{
 "cells": [
  {
   "cell_type": "markdown",
   "metadata": {},
   "source": [
    "# Prepare data for the analysis of lysine deserts in selected proteomes\n",
    "\n",
    "<br />\n",
    "\n",
    "Cells from par. 3 may be ommited so the authors' predictions of transmembrane helices would be used."
   ]
  },
  {
   "cell_type": "markdown",
   "metadata": {},
   "source": [
    "# 1. Import libraries"
   ]
  },
  {
   "cell_type": "code",
   "execution_count": 2,
   "metadata": {},
   "outputs": [],
   "source": [
    "import os\n",
    "import gzip\n",
    "from Bio import SeqIO\n",
    "from ete3 import NCBITaxa\n",
    "import csv\n",
    "from ipywidgets import Text, HBox, Label\n",
    "from IPython.display import display\n",
    "import pickle\n",
    "import pandas as pd\n",
    "import re\n",
    "import math\n",
    "import seaborn as sns\n",
    "import statistics\n",
    "import matplotlib.pyplot as plt\n",
    "import numpy as np\n",
    "\n",
    "ncbi = NCBITaxa()\n",
    "%matplotlib inline"
   ]
  },
  {
   "cell_type": "markdown",
   "metadata": {},
   "source": [
    "# 2. Download data"
   ]
  },
  {
   "cell_type": "markdown",
   "metadata": {},
   "source": [
    "## 2.1. Define proteomes of interest\n",
    "\n",
    "We will search for lysine desert regions in the following proteomes:\n",
    "\n",
    "1. **Bacteria**\n",
    "    * *M. tuberculosis H37Rv* (virulent)\n",
    "    * *M. smegmatis*\n",
    "    * *C. glutamicum*\n",
    "    * *S. ceolicolor*\n",
    "    * *L. ferrooxidans*\n",
    "    * *B. subtilis*\n",
    "    * *E. coli*\n",
    "    * \\+ all Bacteria taxons with assigned status of UniProt reference proteome\n",
    "\n",
    "\n",
    "2. **Bacteria phages**\n",
    "    * *Escherichia* phages\n",
    "    * *Bacillus* phages\n",
    "    * *Mycobacterium* phages\n",
    "    \n",
    "    \n",
    "3. **Eukaryota**\n",
    "     * *S. cerevisiae* \n",
    "     * *C. elegans*\n",
    "     * *D. melanogaster*\n",
    "     * *M. musculus*\n",
    "     * *H. sapiens*\n",
    "     * \\+ all Eukaryota taxons with assigned status of UniProt reference proteome\n",
    "    "
   ]
  },
  {
   "cell_type": "markdown",
   "metadata": {},
   "source": [
    "## 2.2. Download data"
   ]
  },
  {
   "cell_type": "code",
   "execution_count": 14,
   "metadata": {},
   "outputs": [],
   "source": [
    "%%bash\n",
    "mkdir -p data\n",
    "mkdir -p data/Bacteria_proteomes\n",
    "mkdir -p data/all_Uniprot_ref_bacteria_proteomes\n",
    "mkdir -p data/all_Uniprot_ref_eukaryota_proteomes\n",
    "mkdir -p data/Phages_proteomes\n",
    "mkdir -p data/Eukaryota_proteomes\n",
    "mkdir -p data/phages_downloads\n",
    "mkdir -p results/\n",
    "mkdir -p results/TMH_predictions/"
   ]
  },
  {
   "cell_type": "markdown",
   "metadata": {},
   "source": [
    "### Download selected Bacteria and Eukaryota proteomes\n",
    "\n",
    "We manually searched the UniProt database and chose proteomes with status *reference* for the selected abovementioned organisms."
   ]
  },
  {
   "cell_type": "code",
   "execution_count": null,
   "metadata": {},
   "outputs": [],
   "source": [
    "%%bash\n",
    "\n",
    "# Download selected Bacteria proteomes\n",
    "wget ftp://ftp.uniprot.org/pub/databases/uniprot/current_release/knowledgebase/reference_proteomes/Bacteria/UP000001584/UP000001584_83332.fasta.gz -P data/bacteria_proteomes\n",
    "wget ftp://ftp.uniprot.org/pub/databases/uniprot/current_release/knowledgebase/reference_proteomes/Bacteria/UP000000757/UP000000757_246196.fasta.gz -P data/bacteria_proteomes\n",
    "wget ftp://ftp.uniprot.org/pub/databases/uniprot/current_release/knowledgebase/reference_proteomes/Bacteria/UP000000582/UP000000582_196627.fasta.gz -P data/bacteria_proteomes\n",
    "wget ftp://ftp.uniprot.org/pub/databases/uniprot/current_release/knowledgebase/reference_proteomes/Bacteria/UP000001973/UP000001973_100226.fasta.gz -P data/bacteria_proteomes\n",
    "wget ftp://ftp.uniprot.org/pub/databases/uniprot/current_release/knowledgebase/reference_proteomes/Bacteria/UP000007382/UP000007382_1162668.fasta.gz -P data/bacteria_proteomes\n",
    "wget ftp://ftp.uniprot.org/pub/databases/uniprot/current_release/knowledgebase/reference_proteomes/Bacteria/UP000001570/UP000001570_224308.fasta.gz -P data/bacteria_proteomes\n",
    "wget ftp://ftp.uniprot.org/pub/databases/uniprot/current_release/knowledgebase/reference_proteomes/Bacteria/UP000000558/UP000000558_83334.fasta.gz -P data/bacteria_proteomes\n",
    "\n",
    "# Download selected Eukaryota proteomes\n",
    "wget ftp://ftp.uniprot.org/pub/databases/uniprot/current_release/knowledgebase/reference_proteomes/Eukaryota/UP000002311/UP000002311_559292.fasta.gz -P data/eukaryota_proteomes\n",
    "wget ftp://ftp.uniprot.org/pub/databases/uniprot/current_release/knowledgebase/reference_proteomes/Eukaryota/UP000001940/UP000001940_6239.fasta.gz -P data/eukaryota_proteomes\n",
    "wget ftp://ftp.uniprot.org/pub/databases/uniprot/current_release/knowledgebase/reference_proteomes/Eukaryota/UP000000803/UP000000803_7227.fasta.gz -P data/eukaryota_proteomes\n",
    "wget ftp://ftp.uniprot.org/pub/databases/uniprot/current_release/knowledgebase/reference_proteomes/Eukaryota/UP000000589/UP000000589_10090.fasta.gz -P data/eukaryota_proteomes\n",
    "wget ftp://ftp.uniprot.org/pub/databases/uniprot/current_release/knowledgebase/reference_proteomes/Eukaryota/UP000005640/UP000005640_9606.fasta.gz -P data/eukaryota_proteomes"
   ]
  },
  {
   "cell_type": "markdown",
   "metadata": {},
   "source": [
    "### Download all reference Eukaryota proteomes"
   ]
  },
  {
   "cell_type": "code",
   "execution_count": 11,
   "metadata": {},
   "outputs": [],
   "source": [
    "%%bash\n",
    "\n",
    "wget -r --no-parent --cut-dirs=8 -R index.html -A \"*[0-9].fasta.gz\" ftp://ftp.uniprot.org/pub/databases/uniprot/current_release/knowledgebase/reference_proteomes/Eukaryota/ -P data/all_Uniprot_ref_eukaryota_proteomes\n",
    "for i in `ls data/all_Uniprot_ref_eukaryota_proteomes/ftp.uniprot.org`; do mv data/all_Uniprot_ref_eukaryota_proteomes/ftp.uniprot.org/$i data/all_Uniprot_ref_eukaryota_proteomes/; done\n",
    "rm -r data/all_Uniprot_ref_eukaryota_proteomes/ftp.uniprot.org"
   ]
  },
  {
   "cell_type": "markdown",
   "metadata": {},
   "source": [
    "### Download all reference Bacteria proteomes"
   ]
  },
  {
   "cell_type": "code",
   "execution_count": 13,
   "metadata": {},
   "outputs": [],
   "source": [
    "%%bash\n",
    "\n",
    "wget -r --no-parent --cut-dirs=8 -R index.html -A \"*[0-9].fasta.gz\" ftp://ftp.uniprot.org/pub/databases/uniprot/current_release/knowledgebase/reference_proteomes/Bacteria/ -P data/all_Uniprot_ref_bacteria_proteomes\n",
    "for i in `ls data/all_Uniprot_ref_bacteria_proteomes/ftp.uniprot.org`; do mv data/all_Uniprot_ref_bacteria_proteomes/ftp.uniprot.org/$i data/all_Uniprot_ref_bacteria_proteomes/; done\n",
    "rm -r data/all_Uniprot_ref_bacteria_proteomes/ftp.uniprot.org"
   ]
  },
  {
   "cell_type": "markdown",
   "metadata": {},
   "source": [
    "### Prepare summary tables\n",
    "\n",
    "Prepare Tables `Table_reference_eukaryota_proteomes_summary.tsv` and  `Table_reference_bacteria_proteomes_summary.tsv` summarizing the downloaded proteomes.\n",
    "\n",
    "#### Indexing\n",
    "\n",
    "Supplementary tables are indexed by taxon name.\n",
    "\n",
    "#### Columns description\n",
    "\n",
    "Supplementary table contains the following information:\n",
    "\n",
    "| Column  | Description  |\n",
    "|:--|:--|\n",
    "| **UniProt proteome ID**  | Proteome ID from the UniProt database|\n",
    "| **NCBI taxon ID**  | Taxon ID from the NCBI |\n",
    "| **Total sequences in proteome**  | Number of all sequences in proteome |\n"
   ]
  },
  {
   "cell_type": "code",
   "execution_count": 14,
   "metadata": {},
   "outputs": [],
   "source": [
    "for domain in ['bacteria', 'eukaryota']:\n",
    "    sum_dict = {}\n",
    "    for proteome in os.listdir('data/all_Uniprot_ref_{}_proteomes'.format(domain)):\n",
    "        \n",
    "        if proteome == '.DS_Store': continue\n",
    "        \n",
    "        f = gzip.open('data/all_Uniprot_ref_{}_proteomes/{}'.format(domain, proteome), \"rt\")\n",
    "        seq_no = 0\n",
    "        for seq in SeqIO.parse(f, \"fasta\"):\n",
    "            seq_no += 1\n",
    "\n",
    "        uniprot = proteome.split('_')[0]\n",
    "        taxon = proteome.split('_')[1].split('.')[0]\n",
    "        taxon_ncbi = ncbi.get_taxid_translator([taxon])[int(taxon)]\n",
    "        \n",
    "        sum_dict[taxon_ncbi] = [uniprot, taxon, seq_no]\n",
    "            \n",
    "        f.close()\n",
    "            \n",
    "    columns = ['UniProt proteome ID', 'NCBI taxon ID', 'Total sequences in proteome']\n",
    "\n",
    "    df_summary = pd.DataFrame.from_dict(sum_dict, orient='index', columns = columns)                      \n",
    "    df_summary.index.name = 'Taxon'\n",
    "    df_summary.to_csv(f'results/supplementary/Table_reference_{domain}_proteomes_summary.tsv', sep='\\t')   "
   ]
  },
  {
   "cell_type": "markdown",
   "metadata": {},
   "source": [
    "###  Download Bacteria phages proteomes "
   ]
  },
  {
   "cell_type": "markdown",
   "metadata": {},
   "source": [
    "####  Manually download proteomes summary file \n",
    "\n",
    "**NOTE:** This step may be omitted to repeat calculations on exactly the same set of phages' proteomes as the authors did; in such a case proceed to the next step. Proteomes summary files may differ due to  updates of the UniProt updates.\n",
    "\n",
    "1. For each of the 3 phage groups (*Escherichia* phages, *Bacillus* phages & *Mycobacterium* phages), download proteomes summary file from the UniProt database\n",
    "\n",
    "    1.1. In the UniProt Proteomes seaction, search for: escherichia AND (taxonomy_id:10239)\n",
    "    \n",
    "    1.2. Select Reference proteomes on the left\n",
    "    \n",
    "    1.3. Download -> Download all (TSV; uncompressed)\n",
    "    \n",
    "    1.4. Rename downloaded file to `escherichia_phages_prot_info.tsv` and save to `data/phages_downloads` directory\n",
    "    \n",
    "    1.5. Repeat steps 1.1-1.3. to obtain proteomes information about *Bacillus* and *Mycobacterium* phages. \n",
    "    \n",
    "    Make queries: \n",
    "    * bacillus AND (taxonomy_id:10239)\n",
    "    * mycobacterium AND (taxonomy_id:10239)\n",
    "    \n",
    "    and save downloaded files  to `data/phages_downloads` as `bacillus_phages_prot_info.tsv` and `mycobacterium_phages_prot_info.tsv`, respectively.\n",
    "\n"
   ]
  },
  {
   "cell_type": "markdown",
   "metadata": {},
   "source": [
    "#### Filter out outlier proteomes\n",
    "\n",
    "From each of the analyzed phage group, filter out outlier proteomes, basing on summary files downloaded in the previous step.\n",
    "\n"
   ]
  },
  {
   "cell_type": "code",
   "execution_count": 20,
   "metadata": {},
   "outputs": [],
   "source": [
    "%%bash\n",
    "\n",
    "for i in escherichia bacillus mycobacterium; \n",
    "do awk 'BEGIN {FS=\"\\t\"}; { if ( $6 != \"Outlier (high value)\" && $6!=\"Outlier (low value)\" ) { print } }' data/phages_downloads/${i}_phages_prot_info.tsv > data/phages_downloads/${i}_filtered_outliers.tsv; \n",
    "done"
   ]
  },
  {
   "cell_type": "markdown",
   "metadata": {},
   "source": [
    "####  Prepare links to download proteomes"
   ]
  },
  {
   "cell_type": "code",
   "execution_count": 21,
   "metadata": {},
   "outputs": [],
   "source": [
    "for group in ['escherichia', 'bacillus', 'mycobacterium']:\n",
    "\n",
    "    f=open('data/phages_downloads/{}_phages_links_to_download.txt'.format(group), 'w')\n",
    "\n",
    "    with open(\"data/phages_downloads/{}_filtered_outliers.tsv\".format(group)) as fd:\n",
    "        rd = csv.reader(fd, delimiter=\"\\t\", quotechar='\"')\n",
    "        next(rd) # omit header\n",
    "        for row in rd:\n",
    "            f.write('ftp://ftp.uniprot.org/pub/databases/uniprot/current_release/knowledgebase/reference_proteomes/Viruses/{}/{}_{}.fasta.gz\\n'.format(row[0], row[0], row[2]))        \n",
    "    f.close()"
   ]
  },
  {
   "cell_type": "markdown",
   "metadata": {},
   "source": [
    "#### Download selected phages proteomes"
   ]
  },
  {
   "cell_type": "code",
   "execution_count": null,
   "metadata": {},
   "outputs": [],
   "source": [
    "%%bash\n",
    "\n",
    "for i in escherichia bacillus mycobacterium;\n",
    "do mkdir -p data/phages_proteomes/$i;\n",
    "for j in `cat data/phages_downloads/${i}_phages_links_to_download.txt`; \n",
    "do wget $j -P data/phages_proteomes/${i}/ -t 3; \n",
    "done; done"
   ]
  },
  {
   "cell_type": "markdown",
   "metadata": {},
   "source": [
    "# 3. Predict Transmembrane Helices (TMH) for selected Bacteria & Eukaryota proteomes"
   ]
  },
  {
   "cell_type": "markdown",
   "metadata": {},
   "source": [
    "## 3.1. Concatenate sequences from selected Bacteria and Eukaryota proteomes to one file\n",
    "\n",
    "\n",
    "Cut sequences from Bacteria & Eukaryota proteomes (from the selected explicitly named organisms, not from all the UniProt reference proteomes) and save as one fasta file `TMH/all_seqs.fasta`.\n",
    "\n",
    "Modify sequence headers so they contain information about taxon ID:\n",
    "        \n",
    "original sequence header beginning\n",
    "    \n",
    "`>tr|A0A024R1R8|A0A024R1R8_HUMAN`\n",
    "        \n",
    "after edit\n",
    "    \n",
    "`>9606:tr|A0A024R1R8|A0A024R1R8_HUMAN5`\n",
    "        "
   ]
  },
  {
   "cell_type": "code",
   "execution_count": 23,
   "metadata": {},
   "outputs": [],
   "source": [
    "all_fasta = open('results/TMH_predictions/all_seqs.fasta', 'w')\n",
    "\n",
    "for domain in ['Bacteria', 'Eukaryota']:\n",
    "    for proteome in os.listdir('data/{}_proteomes'.format(domain)):\n",
    "\n",
    "        if proteome == '.DS_Store': continue\n",
    "        \n",
    "        f = gzip.open('data/{}_proteomes/{}'.format(domain, proteome), \"rt\")\n",
    "\n",
    "        for seq in SeqIO.parse(f, \"fasta\"):\n",
    "            new_id = '>{}:{}\\n'.format(proteome.split('_')[1].split('.')[0], seq.description)\n",
    "            all_fasta.write(str(new_id))\n",
    "            all_fasta.write(str(seq.seq) + '\\n')\n",
    "            \n",
    "        f.close()\n",
    "\n",
    "all_fasta.close()"
   ]
  },
  {
   "cell_type": "markdown",
   "metadata": {},
   "source": [
    "## 3.2. Downolad TMHMM-2.0\n",
    "\n",
    "Download TMHMM-2.0 standalone version [here](https://services.healthtech.dtu.dk/software.php).\n",
    "\n"
   ]
  },
  {
   "cell_type": "markdown",
   "metadata": {},
   "source": [
    "## 3.3. Run TMHMM-2.0"
   ]
  },
  {
   "cell_type": "markdown",
   "metadata": {},
   "source": [
    "###  Provide path to TMHMM-2.0\n",
    "\n",
    "Simply write it down in the field below \n",
    "\n",
    "e.g. `/Users/ns/Install/tmhmm-2.0c.Linux/tmhmm-2.0c/bin/tmhmm`\n",
    "\n",
    "**Do not hit ENTER after writing it down in the field below.**"
   ]
  },
  {
   "cell_type": "code",
   "execution_count": 27,
   "metadata": {},
   "outputs": [
    {
     "data": {
      "application/vnd.jupyter.widget-view+json": {
       "model_id": "a24bcaba85784014ae192c79b274a5d4",
       "version_major": 2,
       "version_minor": 0
      },
      "text/plain": [
       "HBox(children=(Label(value='Full path to TMHMM software:'), Text(value='')))"
      ]
     },
     "metadata": {},
     "output_type": "display_data"
    }
   ],
   "source": [
    "db = HBox([Label('Full path to the TMHMM-2.0 software:'), Text()])\n",
    "display(db)"
   ]
  },
  {
   "cell_type": "code",
   "execution_count": 28,
   "metadata": {},
   "outputs": [],
   "source": [
    "tmhmm_path = db.children[1].value # get path to the TMHMM-2.0 software path from Text object"
   ]
  },
  {
   "cell_type": "markdown",
   "metadata": {},
   "source": [
    "###  Run TMHMM-2.0\n",
    "\n",
    "Run TMHMM-2.0 on `results/TMH_predictions/all.fasta`. Choose short output & save it to `results/TMH_predictions/tmhmm_results.tsv`."
   ]
  },
  {
   "cell_type": "code",
   "execution_count": null,
   "metadata": {},
   "outputs": [],
   "source": [
    "%%bash -s \"$tmhmm_path\"\n",
    "\n",
    "$1 results/TMH_predictions/all_seqs.fasta >> results/TMH_predictions/tmhmm_results.tsv\n",
    "gzip -9 results/TMH_predictions/tmhmm_results.tsv"
   ]
  },
  {
   "cell_type": "markdown",
   "metadata": {},
   "source": [
    "###  Delete unnecessary file\n",
    "\n",
    "Delete file with concatenated sequences from Bacteria & Eukaryota proteomes."
   ]
  },
  {
   "cell_type": "code",
   "execution_count": 1,
   "metadata": {},
   "outputs": [],
   "source": [
    "%%bash\n",
    "\n",
    "rm results/TMH_predictions/all_seqs.fasta"
   ]
  },
  {
   "cell_type": "markdown",
   "metadata": {},
   "source": [
    "## 3.4. Create dictionary of predicted number of TMH for each sequence of each proteome\n",
    "\n",
    "Create dictionary \n",
    "\n",
    "```\n",
    "{\n",
    "taxon1 : {seq1: X, seq2: Y, ...}, \n",
    "taxon2 : {seq1: Z, seq2: W, ...},\n",
    "...\n",
    "} \n",
    "```\n",
    "\n",
    "where W, X, Y, Z are numbers of predicted Transmembrane Helices."
   ]
  },
  {
   "cell_type": "code",
   "execution_count": 31,
   "metadata": {},
   "outputs": [],
   "source": [
    "tmhmm_dict = {}\n",
    "\n",
    "df = pd.read_csv('results/TMH_predictions/tmhmm_results.tsv.gz', header=None, sep='\\t')\n",
    "df.columns = ['ID', 'Sequence Length', 'ExpAA', 'First60', 'Predicted Helices', 'Topology']\n",
    "# See TMHMM documentation for the description of short output fields\n",
    "\n",
    "# Delete PredHel= from all rows of column Predicted Helices\n",
    "df['Predicted Helices'] = df['Predicted Helices'].str.replace('PredHel=', '')\n",
    "\n",
    "\n",
    "for ident, value in df.iterrows():\n",
    "\n",
    "    identifiers = value[0].split(':')\n",
    "    taxon = identifiers[0]\n",
    "    seq_id = identifiers[1].split('|')[1]\n",
    "    tmh_no = int(value[4])\n",
    "    \n",
    "    if taxon not in tmhmm_dict.keys():\n",
    "        tmhmm_dict[taxon] = {}\n",
    "        \n",
    "    tmhmm_dict[taxon][seq_id] = tmh_no\n",
    "        \n",
    "\n",
    "with open('results/TMH_predictions/tmhmm_dict.pickle', 'wb') as handle:\n",
    "    pickle.dump(tmhmm_dict, handle, protocol = pickle.HIGHEST_PROTOCOL)"
   ]
  },
  {
   "cell_type": "markdown",
   "metadata": {},
   "source": [
    "# 4. Analyze selected Bacteria and Eukaryota proteomes\n",
    "\n",
    "Prepare Tables `Table_bacteria_proteomes_summary.tsv` and `Table_eukaryota_proteomes_summary.tsv` summarizing proteomes' properties (all proteomes sequences vs. filtered proteomes sequences) from selected taxons.\n",
    "\n",
    "\n",
    "### Indexing\n",
    "\n",
    "Supplementary tables are indexed by taxon name.\n",
    "\n",
    "### Columns description\n",
    "\n",
    "Supplementary tables contain the following information:\n",
    "\n",
    "| Column  | Description  |\n",
    "|:--|:--|\n",
    "| **UniProt proteome ID**  | Proteome ID from the UniProt database|\n",
    "| **Total sequences in proteome**  | Number of all sequences in proteome |\n",
    "| **Fraction of filtered sequences**  |  Fraction of filtered sequences (fulfilling default criteria of minimum length of 150 aa and maximum predicted TMH number of 2.0) among all sequences from proteome |"
   ]
  },
  {
   "cell_type": "code",
   "execution_count": 15,
   "metadata": {},
   "outputs": [],
   "source": [
    "%%bash \n",
    "mkdir -p results\n",
    "mkdir -p results/supplementary"
   ]
  },
  {
   "cell_type": "code",
   "execution_count": 16,
   "metadata": {},
   "outputs": [],
   "source": [
    "with open('results/TMH_predictions/tmhmm_dict.pickle', 'rb') as handle:\n",
    "    tmhmm_dict = pickle.load(handle)"
   ]
  },
  {
   "cell_type": "code",
   "execution_count": 78,
   "metadata": {},
   "outputs": [
    {
     "name": "stdout",
     "output_type": "stream",
     "text": [
      "Summary of Bacteria proteomes\n"
     ]
    },
    {
     "data": {
      "text/html": [
       "<div>\n",
       "<style scoped>\n",
       "    .dataframe tbody tr th:only-of-type {\n",
       "        vertical-align: middle;\n",
       "    }\n",
       "\n",
       "    .dataframe tbody tr th {\n",
       "        vertical-align: top;\n",
       "    }\n",
       "\n",
       "    .dataframe thead th {\n",
       "        text-align: right;\n",
       "    }\n",
       "</style>\n",
       "<table border=\"1\" class=\"dataframe\">\n",
       "  <thead>\n",
       "    <tr style=\"text-align: right;\">\n",
       "      <th></th>\n",
       "      <th>UniProt proteome ID</th>\n",
       "      <th>Total sequences in proteome</th>\n",
       "      <th>Fraction of filtered sequences</th>\n",
       "    </tr>\n",
       "    <tr>\n",
       "      <th>Taxon</th>\n",
       "      <th></th>\n",
       "      <th></th>\n",
       "      <th></th>\n",
       "    </tr>\n",
       "  </thead>\n",
       "  <tbody>\n",
       "    <tr>\n",
       "      <th>Mycobacterium tuberculosis H37Rv</th>\n",
       "      <td>UP000001584</td>\n",
       "      <td>3995</td>\n",
       "      <td>69.54</td>\n",
       "    </tr>\n",
       "    <tr>\n",
       "      <th>Mycolicibacterium smegmatis MC2 155</th>\n",
       "      <td>UP000000757</td>\n",
       "      <td>6602</td>\n",
       "      <td>70.72</td>\n",
       "    </tr>\n",
       "    <tr>\n",
       "      <th>Corynebacterium glutamicum ATCC 13032</th>\n",
       "      <td>UP000000582</td>\n",
       "      <td>3093</td>\n",
       "      <td>64.24</td>\n",
       "    </tr>\n",
       "    <tr>\n",
       "      <th>Streptomyces coelicolor A3(2)</th>\n",
       "      <td>UP000001973</td>\n",
       "      <td>8034</td>\n",
       "      <td>69.88</td>\n",
       "    </tr>\n",
       "    <tr>\n",
       "      <th>Leptospirillum ferrooxidans C2-3</th>\n",
       "      <td>UP000007382</td>\n",
       "      <td>2413</td>\n",
       "      <td>65.98</td>\n",
       "    </tr>\n",
       "    <tr>\n",
       "      <th>Escherichia coli O157:H7</th>\n",
       "      <td>UP000000558</td>\n",
       "      <td>5062</td>\n",
       "      <td>62.96</td>\n",
       "    </tr>\n",
       "    <tr>\n",
       "      <th>Bacillus subtilis subsp. subtilis str. 168</th>\n",
       "      <td>UP000001570</td>\n",
       "      <td>4260</td>\n",
       "      <td>58.05</td>\n",
       "    </tr>\n",
       "  </tbody>\n",
       "</table>\n",
       "</div>"
      ],
      "text/plain": [
       "                                           UniProt proteome ID  \\\n",
       "Taxon                                                            \n",
       "Mycobacterium tuberculosis H37Rv                   UP000001584   \n",
       "Mycolicibacterium smegmatis MC2 155                UP000000757   \n",
       "Corynebacterium glutamicum ATCC 13032              UP000000582   \n",
       "Streptomyces coelicolor A3(2)                      UP000001973   \n",
       "Leptospirillum ferrooxidans C2-3                   UP000007382   \n",
       "Escherichia coli O157:H7                           UP000000558   \n",
       "Bacillus subtilis subsp. subtilis str. 168         UP000001570   \n",
       "\n",
       "                                            Total sequences in proteome  \\\n",
       "Taxon                                                                     \n",
       "Mycobacterium tuberculosis H37Rv                                   3995   \n",
       "Mycolicibacterium smegmatis MC2 155                                6602   \n",
       "Corynebacterium glutamicum ATCC 13032                              3093   \n",
       "Streptomyces coelicolor A3(2)                                      8034   \n",
       "Leptospirillum ferrooxidans C2-3                                   2413   \n",
       "Escherichia coli O157:H7                                           5062   \n",
       "Bacillus subtilis subsp. subtilis str. 168                         4260   \n",
       "\n",
       "                                            Fraction of filtered sequences  \n",
       "Taxon                                                                       \n",
       "Mycobacterium tuberculosis H37Rv                                     69.54  \n",
       "Mycolicibacterium smegmatis MC2 155                                  70.72  \n",
       "Corynebacterium glutamicum ATCC 13032                                64.24  \n",
       "Streptomyces coelicolor A3(2)                                        69.88  \n",
       "Leptospirillum ferrooxidans C2-3                                     65.98  \n",
       "Escherichia coli O157:H7                                             62.96  \n",
       "Bacillus subtilis subsp. subtilis str. 168                           58.05  "
      ]
     },
     "metadata": {},
     "output_type": "display_data"
    },
    {
     "name": "stdout",
     "output_type": "stream",
     "text": [
      "\n",
      "Summary of Eukaryota proteomes\n"
     ]
    },
    {
     "data": {
      "text/html": [
       "<div>\n",
       "<style scoped>\n",
       "    .dataframe tbody tr th:only-of-type {\n",
       "        vertical-align: middle;\n",
       "    }\n",
       "\n",
       "    .dataframe tbody tr th {\n",
       "        vertical-align: top;\n",
       "    }\n",
       "\n",
       "    .dataframe thead th {\n",
       "        text-align: right;\n",
       "    }\n",
       "</style>\n",
       "<table border=\"1\" class=\"dataframe\">\n",
       "  <thead>\n",
       "    <tr style=\"text-align: right;\">\n",
       "      <th></th>\n",
       "      <th>UniProt proteome ID</th>\n",
       "      <th>Total sequences in proteome</th>\n",
       "      <th>Fraction of filtered sequences</th>\n",
       "    </tr>\n",
       "    <tr>\n",
       "      <th>Taxon</th>\n",
       "      <th></th>\n",
       "      <th></th>\n",
       "      <th></th>\n",
       "    </tr>\n",
       "  </thead>\n",
       "  <tbody>\n",
       "    <tr>\n",
       "      <th>Saccharomyces cerevisiae S288C</th>\n",
       "      <td>UP000002311</td>\n",
       "      <td>6059</td>\n",
       "      <td>76.35</td>\n",
       "    </tr>\n",
       "    <tr>\n",
       "      <th>Caenorhabditis elegans</th>\n",
       "      <td>UP000001940</td>\n",
       "      <td>19825</td>\n",
       "      <td>66.13</td>\n",
       "    </tr>\n",
       "    <tr>\n",
       "      <th>Drosophila melanogaster</th>\n",
       "      <td>UP000000803</td>\n",
       "      <td>13823</td>\n",
       "      <td>75.69</td>\n",
       "    </tr>\n",
       "    <tr>\n",
       "      <th>Mus musculus</th>\n",
       "      <td>UP000000589</td>\n",
       "      <td>21984</td>\n",
       "      <td>72.89</td>\n",
       "    </tr>\n",
       "    <tr>\n",
       "      <th>Homo sapiens</th>\n",
       "      <td>UP000005640</td>\n",
       "      <td>20598</td>\n",
       "      <td>76.81</td>\n",
       "    </tr>\n",
       "  </tbody>\n",
       "</table>\n",
       "</div>"
      ],
      "text/plain": [
       "                               UniProt proteome ID  \\\n",
       "Taxon                                                \n",
       "Saccharomyces cerevisiae S288C         UP000002311   \n",
       "Caenorhabditis elegans                 UP000001940   \n",
       "Drosophila melanogaster                UP000000803   \n",
       "Mus musculus                           UP000000589   \n",
       "Homo sapiens                           UP000005640   \n",
       "\n",
       "                                Total sequences in proteome  \\\n",
       "Taxon                                                         \n",
       "Saccharomyces cerevisiae S288C                         6059   \n",
       "Caenorhabditis elegans                                19825   \n",
       "Drosophila melanogaster                               13823   \n",
       "Mus musculus                                          21984   \n",
       "Homo sapiens                                          20598   \n",
       "\n",
       "                                Fraction of filtered sequences  \n",
       "Taxon                                                           \n",
       "Saccharomyces cerevisiae S288C                           76.35  \n",
       "Caenorhabditis elegans                                   66.13  \n",
       "Drosophila melanogaster                                  75.69  \n",
       "Mus musculus                                             72.89  \n",
       "Homo sapiens                                             76.81  "
      ]
     },
     "metadata": {},
     "output_type": "display_data"
    }
   ],
   "source": [
    "proteomes_summary = {'bacteria' : {'Mycobacterium tuberculosis H37Rv' : None, \n",
    "                                   'Mycolicibacterium smegmatis MC2 155' : None,\n",
    "                                   'Corynebacterium glutamicum ATCC 13032' : None,\n",
    "                                   'Streptomyces coelicolor A3(2)' : None,\n",
    "                                   'Leptospirillum ferrooxidans C2-3' : None,\n",
    "                                   'Escherichia coli O157:H7' : None,\n",
    "                                   'Bacillus subtilis subsp. subtilis str. 168' : None}, \n",
    "                     'eukaryota' : {'Saccharomyces cerevisiae S288C' : None, \n",
    "                                    'Caenorhabditis elegans' : None,\n",
    "                                    'Drosophila melanogaster' : None,\n",
    "                                    'Mus musculus' : None,\n",
    "                                    'Homo sapiens' : None}\n",
    "                    }\n",
    "\n",
    "for domain in ['bacteria', 'eukaryota']:\n",
    "    for proteome in os.listdir('data/{}_proteomes'.format(domain)):\n",
    "        if proteome == '.DS_Store': continue\n",
    "        \n",
    "        f = gzip.open('data/{}_proteomes/{}'.format(domain, proteome), \"rt\")\n",
    "        total_seq_no = 0 # no of all seq in proteome\n",
    "        filtered_seq_no = 0 # no of sequences >= 150aa & with predicted no of TMH <= 2.0\n",
    "        taxon = proteome.split('_')[1].split('.')[0]\n",
    "        ncbi_taxonomy_name = ncbi.get_taxid_translator([taxon])[int(taxon)]\n",
    "        \n",
    "        for seq in SeqIO.parse(f, \"fasta\"):\n",
    "            total_seq_no += 1\n",
    "            seq_id = seq.id.split('|')[1]\n",
    "\n",
    "            if len(str(seq.seq)) >= 150 and tmhmm_dict[taxon][seq_id] <= 2.0:\n",
    "                filtered_seq_no += 1\n",
    "        \n",
    "        proteomes_summary[domain][ncbi_taxonomy_name] = [proteome.split('_')[0], total_seq_no, round((filtered_seq_no/total_seq_no)*100, 2)]\n",
    "        \n",
    "columns = ['UniProt proteome ID', 'Total sequences in proteome', 'Fraction of filtered sequences']\n",
    "\n",
    "df_summary_bacteria = pd.DataFrame.from_dict(proteomes_summary['bacteria'], orient='index', columns = columns)                      \n",
    "df_summary_bacteria.index.name = 'Taxon'\n",
    "\n",
    "print('Summary of Bacteria proteomes')\n",
    "display(df_summary_bacteria)\n",
    "df_summary_bacteria.to_csv('results/supplementary/Table_bacteria_proteomes_summary.tsv', sep='\\t')\n",
    "\n",
    "print()\n",
    "\n",
    "df_summary_eukaryota = pd.DataFrame.from_dict(proteomes_summary['eukaryota'], orient='index', columns = columns)\n",
    "df_summary_eukaryota.index.name = 'Taxon'\n",
    "\n",
    "print('Summary of Eukaryota proteomes')\n",
    "display(df_summary_eukaryota)\n",
    "df_summary_eukaryota.to_csv('results/supplementary/Table_eukaryota_proteomes_summary.tsv', sep='\\t')"
   ]
  },
  {
   "cell_type": "markdown",
   "metadata": {},
   "source": [
    "# 5. Find thresholds for defining a lysine desert\n",
    "\n",
    "Calculate different lysine desert regions distributions in Eukaryota.\n",
    "\n",
    "> **_NOTE:_**  We did not perform TMH predictions for all reference Eukaryota proteomes due to tremendously time-consuming calculations."
   ]
  },
  {
   "cell_type": "code",
   "execution_count": 27,
   "metadata": {},
   "outputs": [],
   "source": [
    "with open('results/TMH_predictions/tmhmm_dict.pickle', 'rb') as handle:\n",
    "    tmhmm_dict = pickle.load(handle)"
   ]
  },
  {
   "cell_type": "code",
   "execution_count": 38,
   "metadata": {},
   "outputs": [],
   "source": [
    "%%bash\n",
    "\n",
    "mkdir -p results/lysine_desert_distributions/all_Uniprot_ref_eukaryota_proteomes/values\n",
    "mkdir -p results/lysine_desert_distributions/all_Uniprot_ref_eukaryota_proteomes/plots"
   ]
  },
  {
   "cell_type": "code",
   "execution_count": 79,
   "metadata": {},
   "outputs": [],
   "source": [
    "def calculate_distributions(domain, windows, windows_type, output, TMH_threshold=None):  \n",
    "    longest_desert_aa = []\n",
    "    longest_desert_freq = []\n",
    "    lysine_freq = []\n",
    "    windows_dict_presence = {}\n",
    "    \n",
    "    for i in windows:\n",
    "        windows_dict_presence[i] = []\n",
    "    \n",
    "    for proteome in os.listdir('data/{}_proteomes'.format(domain)):\n",
    "        if proteome == '.DS_Store': continue\n",
    "\n",
    "        f = gzip.open('data/{}_proteomes/{}'.format(domain, proteome), \"rt\")\n",
    "        \n",
    "        for s in SeqIO.parse(f, \"fasta\"):\n",
    "            seq = str(s.seq)\n",
    "            seq_id = s.id.split('|')[1]\n",
    "            taxon = proteome.split('_')[1].split('.')[0]\n",
    "\n",
    "            if len(seq) >= 150:\n",
    "                if TMH_threshold is not None:\n",
    "                    if tmhmm_dict[taxon][seq_id] > TMH_threshold: continue\n",
    "                        \n",
    "                seq_filtered = ''.join(['1' if aa != 'K' else '0' for aa in seq])\n",
    "\n",
    "                # Get lysine-less sequence chunks\n",
    "                desert_indices_all = [(match.start(), match.end()) for match in re.finditer('1+', seq_filtered)]\n",
    "                max_length = 0\n",
    "\n",
    "                for indice in desert_indices_all:\n",
    "\n",
    "                    start, end = indice\n",
    "                    length = int(end) - int(start)\n",
    "\n",
    "                    if length >= max_length:\n",
    "                        max_length = length\n",
    "\n",
    "                longest_desert_aa.append(max_length)\n",
    "                longest_desert_freq.append(round((max_length/len(seq))*100,2))\n",
    "                lysine_freq.append(round((seq.count(\"K\")/len(seq))*100,2))\n",
    "\n",
    "                for i in windows:\n",
    "                    if windows_type == 'freq':\n",
    "                        window_length = math.floor((i * len(seq))/100)\n",
    "                    else:\n",
    "                        window_length = i\n",
    "                        \n",
    "                    how_many_windows_fulfiling_condition = 0\n",
    "                    if window_length <= len(seq):\n",
    "                        for el in range(len(seq) - window_length +1):\n",
    "                            seq_trimmed = seq[el:el+window_length]\n",
    "                            if \"K\" not in seq_trimmed:\n",
    "                                how_many_windows_fulfiling_condition += 1\n",
    "\n",
    "                    if how_many_windows_fulfiling_condition > 0:\n",
    "                        windows_dict_presence[i].append(1)\n",
    "                    else:\n",
    "                        windows_dict_presence[i].append(0)\n",
    "\n",
    "    return longest_desert_freq, longest_desert_aa, lysine_freq, windows_dict_presence"
   ]
  },
  {
   "cell_type": "code",
   "execution_count": 80,
   "metadata": {},
   "outputs": [],
   "source": [
    "def make_barplots(data, output, analysis, xlabel):\n",
    "    \n",
    "    keys = list(data.keys())\n",
    "    vals = [data[k] for k in keys]\n",
    "    \n",
    "    fig, ax = plt.subplots(figsize = (12,7))\n",
    "    sns.barplot(keys, vals, color ='lightgrey',\n",
    "             edgecolor ='black', linewidth=3)\n",
    "    \n",
    "    ax.set_ylabel('Fraction of proteins [%]', fontsize=18)\n",
    "    ax.set_xlabel(xlabel, fontsize=18)\n",
    "    plt.xticks(fontsize=16)\n",
    "    plt.yticks(fontsize=16)\n",
    "    \n",
    "    plt.savefig(output + analysis, dpi=600, bbox_inches='tight')\n",
    "    plt.close('all')"
   ]
  },
  {
   "cell_type": "code",
   "execution_count": 81,
   "metadata": {},
   "outputs": [],
   "source": [
    "def run_distribution_analysis(domain, output, windows, windows_type, TMH_threshold=None):\n",
    "\n",
    "    longest_desert_fraq, longest_desert_aa, lysine_fraq, windows_dict_presence = calculate_distributions(domain, windows, windows_type, output, TMH_threshold)\n",
    "    \n",
    "    df = pd.DataFrame({'Longest_desert_fraction':longest_desert_fraq, \n",
    "                       'Longest_desert_aa':longest_desert_aa,\n",
    "                       'Lysine_fraction':lysine_fraq })\n",
    "    \n",
    "    windows_dict_presence_means = {}\n",
    "    \n",
    "    for key in windows_dict_presence.keys():\n",
    "        df[f'SW_{key}_any_has_lysine_desert'] = windows_dict_presence[key]\n",
    "        windows_dict_presence_means[key] = statistics.mean(windows_dict_presence[key])\n",
    "        \n",
    "    if windows_type =='freq':\n",
    "        SW_def = 'sequence fraction [%]'\n",
    "    else:\n",
    "        SW_def = 'nominal values [aa]'\n",
    "\n",
    "    make_barplots(windows_dict_presence_means, output + 'plots/', domain + '_windows_presence_means_sliding_windows_by' + windows_type, f'Length of lysine-less sliding window (by {SW_def})')\n",
    "\n",
    "    df.to_csv(output + 'values/' + domain + '_distribution_summary_sliding_windows_by_' + windows_type +'.tsv', sep='\\t')"
   ]
  },
  {
   "cell_type": "code",
   "execution_count": null,
   "metadata": {},
   "outputs": [],
   "source": [
    "run_distribution_analysis('all_Uniprot_ref_eukaryota', 'results/lysine_desert_distributions/all_Uniprot_ref_eukaryota_proteomes/', range(5, 105, 5), 'freq')\n",
    "run_distribution_analysis('all_Uniprot_ref_eukaryota', 'results/lysine_desert_distributions/all_Uniprot_ref_eukaryota_proteomes/', range(50, 750, 50), 'nominal')"
   ]
  },
  {
   "cell_type": "code",
   "execution_count": 1,
   "metadata": {},
   "outputs": [],
   "source": [
    "%%bash\n",
    "\n",
    "gzip -9 results/lysine_desert_distributions/all_Uniprot_ref_eukaryota_proteomes/values/all_Uniprot_ref_eukaryota_distribution_summary_sliding_windows_by_freq.tsv\n",
    "gzip -9 results/lysine_desert_distributions/all_Uniprot_ref_eukaryota_proteomes/values/all_Uniprot_ref_eukaryota_distribution_summary_sliding_windows_by_nominal.tsv"
   ]
  },
  {
   "cell_type": "markdown",
   "metadata": {},
   "source": [
    "# 6. Analyze phages' proteomes\n",
    "\n",
    "* **6.1.** perform analysis of number of proteins in proteomes and number of proteins of minimum length of 150 aa to decide on thresholds which proteomes to consider in the final analysis\n",
    "* **6.2.** perform analysis, applying chosen thresholds in 5.1., to generate phages' proteomes summary for **Table_phages_proteomes_summary.tsv** \n",
    "\n",
    "> **_NOTE:_**  We did not perform TMH prediction for phages' sequences."
   ]
  },
  {
   "cell_type": "markdown",
   "metadata": {},
   "source": [
    "## 6.1. Find threshold for discarding proteomes based on the number of sequences they possess"
   ]
  },
  {
   "cell_type": "code",
   "execution_count": 75,
   "metadata": {},
   "outputs": [],
   "source": [
    "def ecdf(data):\n",
    "    \"\"\"Compute ECDF for a one-dimensional array of measurements.\"\"\"\n",
    "    # Number of data points: n\n",
    "\n",
    "    n = len(data)\n",
    "\n",
    "    # x-data for the ECDF: x\n",
    "    x = np.sort(data)\n",
    "    # y-data for the ECDF: y\n",
    "    y = np.arange(1, n+1) / n\n",
    "\n",
    "    return x, y\n",
    "\n",
    "def make_plot(x, y, xrange, xlabel, title):\n",
    "    \n",
    "    plt.figure(figsize=(10,5))\n",
    "    plt.plot(x, y, marker='.', linestyle='none', color='blue')\n",
    "    plt.xticks(np.arange(min(x_set), max(x_set)+1, xrange))\n",
    "    plt.xlabel(xlabel, fontsize=16)\n",
    "    plt.ylabel('ECDF', fontsize=16)\n",
    "    plt.title(title, fontsize=20)\n",
    "    plt.margins(0.02) # keeps data off plot edges\n",
    "\n",
    "    # Display the plot\n",
    "    plt.show()"
   ]
  },
  {
   "cell_type": "code",
   "execution_count": 76,
   "metadata": {},
   "outputs": [],
   "source": [
    "phages_summary_dict = {}\n",
    "total_seq_in_proteomes_per_group = {'escherichia' : [], 'bacillus' : [], 'mycobacterium' : []}\n",
    "\n",
    "for group in ['escherichia', 'bacillus', 'mycobacterium']:\n",
    "    no_proteomes = 0\n",
    "    \n",
    "    for proteome in os.listdir('data/phages_proteomes/{}'.format(group)):\n",
    "        \n",
    "        if proteome == '.DS_Store': continue\n",
    "        \n",
    "        f = gzip.open('data/phages_proteomes/{}/{}'.format(group, proteome), \"rt\")\n",
    "        total_seq_no = 0 # no of all seq in proteome\n",
    "\n",
    "        for seq in SeqIO.parse(f, \"fasta\"):\n",
    "            total_seq_no += 1\n",
    "    \n",
    "        f.close()\n",
    "        \n",
    "        total_seq_in_proteomes_per_group[group].append(total_seq_no)"
   ]
  },
  {
   "cell_type": "markdown",
   "metadata": {},
   "source": [
    "### ECDF plots of  total number of sequences per proteome\n",
    "\n",
    "**How to read ECDF (empirical cumulative distribution function) plots?**\n",
    "\n",
    "* one dot represents one proteome\n",
    "* X axis indicates number of sequences in proteome\n",
    "* Y axis - the ECDF indicates the cumulative distribution of particular value \n",
    "\n",
    "---\n",
    "\n",
    "Let's assume our x = 50 and y = 0.2 \n",
    "\n",
    "It means that 20% of all proteomes have no more than 50 sequences and that 80% of all proteomes have more than 50 sequences."
   ]
  },
  {
   "cell_type": "code",
   "execution_count": 77,
   "metadata": {},
   "outputs": [
    {
     "data": {
      "image/png": "[encoded data removed]",
      "text/plain": [
       "<Figure size 720x360 with 1 Axes>"
      ]
     },
     "metadata": {
      "needs_background": "light"
     },
     "output_type": "display_data"
    },
    {
     "data": {
      "image/png": "[encoded data removed]",
      "text/plain": [
       "<Figure size 720x360 with 1 Axes>"
      ]
     },
     "metadata": {
      "needs_background": "light"
     },
     "output_type": "display_data"
    },
    {
     "data": {
      "image/png": "[encoded data removed]",
      "text/plain": [
       "<Figure size 720x360 with 1 Axes>"
      ]
     },
     "metadata": {
      "needs_background": "light"
     },
     "output_type": "display_data"
    }
   ],
   "source": [
    "for key in total_seq_in_proteomes_per_group.keys():\n",
    "    x_set, y_set = ecdf(total_seq_in_proteomes_per_group[key])\n",
    "    make_plot(x_set, y_set, 15.0, 'Total number of sequences per proteome', key.capitalize() + ' phages')"
   ]
  },
  {
   "cell_type": "markdown",
   "metadata": {},
   "source": [
    "## 6.2. Reduce sequence redundancy\n",
    "\n",
    "\n",
    "Basing on analysis performed in previous step, **we will discard phages' proteomes which have below 40 sequences**.\n",
    "\n",
    "---\n",
    "\n",
    "From the proteomes that fulfill abovementioned criteria, from each phages' group, we will select all sequences of minimum 150 aa length and use it as input for cd-hit. cd-hit is a software tool which clusters protein sequences based on their identity. This will allow us later to search for lysine desert regions in the clustered version of \"one big proteome\" for each group.\n"
   ]
  },
  {
   "cell_type": "markdown",
   "metadata": {},
   "source": [
    "### Prepare input for cd-hit\n",
    "\n",
    "Concatenate all sequences minimum 150 aa long from selected phages proteomes (as before; proteomes with over 40 sequences are selected) into one fasta file, separately for each group. Save them to `data` directory as `tmp_escherichia_seq_for_cd-hit.fasta`, `tmp_bacillus_seq_for_cd-hit.fasta` and `tmp_mycobacterium_seq_for_cd-hit.fasta`.\n"
   ]
  },
  {
   "cell_type": "code",
   "execution_count": 68,
   "metadata": {},
   "outputs": [],
   "source": [
    "for group in ['bacillus', 'escherichia', 'mycobacterium']:\n",
    "    out = open('data/tmp_{}_seq_for_cd-hit.fasta'.format(group), 'w')\n",
    "    for proteome in os.listdir('data/Phages_proteomes/{}'.format(group)):\n",
    "        if proteome == '.DS_Store': continue\n",
    "        f = gzip.open('data/Phages_proteomes/{}/{}'.format(group, proteome), \"rt\")\n",
    "        fasta_parsed = list(SeqIO.parse(f, 'fasta'))\n",
    "        \n",
    "        if len(fasta_parsed) < 40: continue\n",
    "        \n",
    "        for seq in fasta_parsed:\n",
    "            if len(seq.seq)>= 150:\n",
    "                out.write('>{}\\n'.format(seq.id))\n",
    "                out.write('{}\\n'.format(seq.seq))\n",
    "                \n",
    "    out.close()"
   ]
  },
  {
   "cell_type": "markdown",
   "metadata": {},
   "source": [
    "###  Run cd-hit\n",
    "\n",
    "Submit newly created fasta files to [cd-hit webserver](http://weizhong-lab.ucsd.edu/cdhit-web-server/cgi-bin/index.cgi?cmd=cd-hit), run with default parameters (sequence identity cut-off = 0.9, use global sequence identity: Yes, sequence is clustered to the best cluster that meet the threshold: Yes,  length of sequence to skip = 10). \n",
    "\n",
    "When the calculations finish, download all results at once (use option Download all files from the left panel). \n",
    "\n",
    "Change name of each downloaded archive to `escherichia`, `bacillus` or `mycobacterium`, depending on the input sequences. Untar it, rename file ending with fas.1 to `clustered_proteome.fasta`, gzip each of the files in the directory separately, e.g. in bacillus directory do in terminal: ```for i in `ls`; do gzip -9 $i; done```\n",
    "\n",
    "Create directory `data/Phages_proteomes/after_cd-hit` and save there preprocessed as described above  cd-hit results' directories.\n"
   ]
  },
  {
   "cell_type": "markdown",
   "metadata": {},
   "source": [
    "Delete unnecessary files"
   ]
  },
  {
   "cell_type": "code",
   "execution_count": null,
   "metadata": {},
   "outputs": [],
   "source": [
    "%%bash\n",
    "\n",
    "rm data/tmp_escherichia_seq_for_cd-hit.fasta\n",
    "rm data/tmp_bacillus_seq_for_cd-hit.fasta\n",
    "rm data/tmp_mycobacterium_seq_for_cd-hit.fasta"
   ]
  },
  {
   "cell_type": "markdown",
   "metadata": {},
   "source": [
    "## 6.3. Prepare summary tables about selected proteomes used in analysis\n",
    "\n",
    "Prepare Tables `Table_reference_escherichia_phages_proteomes_summary.tsv`, `Table_reference_bacillus_phages_proteomes_summary.tsv`, and `Table_reference_mycobacterium_phages_proteomes_summary.tsv` summarizing the proteomes selected for analysis (not outliers and with over 40 sequences).\n",
    "\n",
    "#### Indexing\n",
    "\n",
    "Supplementary tables are indexed by taxon name.\n",
    "\n",
    "#### Columns description\n",
    "\n",
    "Supplementary table contains the following information:\n",
    "\n",
    "\n",
    "| Column  | Description  |\n",
    "|:--|:--|\n",
    "| **UniProt proteome ID**  | Proteome ID from the UniProt database|\n",
    "| **NCBI taxon ID**  | Taxon ID from the NCBI |\n",
    "| **Total sequences in proteome**  | Number of all sequences in proteome |\n"
   ]
  },
  {
   "cell_type": "code",
   "execution_count": 7,
   "metadata": {},
   "outputs": [],
   "source": [
    "for group in ['escherichia', 'bacillus', 'mycobacterium']:\n",
    "    sum_dict = {}\n",
    "    for proteome in os.listdir('data/Phages_proteomes/{}'.format(group)):\n",
    "        \n",
    "        if proteome == '.DS_Store': continue\n",
    "        \n",
    "        f = gzip.open('data/Phages_proteomes/{}/{}'.format(group, proteome), \"rt\")\n",
    "        seq_no = 0\n",
    "        for seq in SeqIO.parse(f, \"fasta\"):\n",
    "            seq_no += 1\n",
    "                \n",
    "        if seq_no < 40: continue\n",
    "        uniprot = proteome.split('_')[0]\n",
    "        taxon = proteome.split('_')[1].split('.')[0]\n",
    "        try:\n",
    "            taxon_ncbi = ncbi.get_taxid_translator([taxon])[int(taxon)]\n",
    "        except KeyError:\n",
    "            taxon_ncbi = str(taxon)\n",
    "        \n",
    "        sum_dict[taxon_ncbi] = [uniprot, taxon, seq_no]\n",
    "            \n",
    "        f.close()\n",
    "            \n",
    "    columns = ['UniProt proteome ID',  'NCBI taxon ID', 'Total sequences in proteome']\n",
    "\n",
    "    df_summary = pd.DataFrame.from_dict(sum_dict, orient='index', columns = columns)                      \n",
    "    df_summary.index.name = 'Taxon'\n",
    "    df_summary.to_csv(f'results/supplementary/Table_{group}_phages_proteomes_summary.tsv', sep='\\t')   "
   ]
  },
  {
   "cell_type": "markdown",
   "metadata": {},
   "source": [
    "## 6.4. Prepare summary table about panproteomes generated based on selected proteomes\n",
    "\n",
    "Prepare Table **Table_phages_proteomes_summary.tsv** summarizing panproteomes' properties for selected phages groups.\n",
    "\n",
    "\n",
    "### Indexing\n",
    "\n",
    "Supplementary tables are indexed by phages' group.\n",
    "\n",
    "### Columns description\n",
    "\n",
    "Supplementary table contains the following information:\n",
    "\n",
    "| Column  | Description  |\n",
    "|:--|:--|\n",
    "| **Proteomes number**  | Number of all proteomes |\n",
    "| **Filtered proteomes number**  |  Number of proteomes which have less than 40 sequences (default threshold)|\n",
    "| **Total sequence number in filtered proteomes**  |  Total number of sequences in filtered proteomes |\n",
    "| **Fraction of sequences from filtered proteomes used for cd-hit**  |  Fraction of sequences of min. 150 aa length (default threshold) among all sequences in filtered proteomes |\n",
    "| **Total number of sequences in panproteome** | Total number of sequences after clustering|\n",
    "| **Median sequence length in panproteome** | Median sequence length after clustering|"
   ]
  },
  {
   "cell_type": "code",
   "execution_count": 74,
   "metadata": {},
   "outputs": [
    {
     "data": {
      "text/html": [
       "<div>\n",
       "<style scoped>\n",
       "    .dataframe tbody tr th:only-of-type {\n",
       "        vertical-align: middle;\n",
       "    }\n",
       "\n",
       "    .dataframe tbody tr th {\n",
       "        vertical-align: top;\n",
       "    }\n",
       "\n",
       "    .dataframe thead th {\n",
       "        text-align: right;\n",
       "    }\n",
       "</style>\n",
       "<table border=\"1\" class=\"dataframe\">\n",
       "  <thead>\n",
       "    <tr style=\"text-align: right;\">\n",
       "      <th></th>\n",
       "      <th>Proteomes number</th>\n",
       "      <th>Filtered proteomes number</th>\n",
       "      <th>Total sequence number in filtered proteomes</th>\n",
       "      <th>Percentage of sequences of min. 150 aa length among</th>\n",
       "      <th>Total number of sequences in panproteome</th>\n",
       "      <th>Median sequence length in panproteome</th>\n",
       "    </tr>\n",
       "    <tr>\n",
       "      <th>Phages group</th>\n",
       "      <th></th>\n",
       "      <th></th>\n",
       "      <th></th>\n",
       "      <th></th>\n",
       "      <th></th>\n",
       "      <th></th>\n",
       "    </tr>\n",
       "  </thead>\n",
       "  <tbody>\n",
       "    <tr>\n",
       "      <th>Bacillus</th>\n",
       "      <td>149</td>\n",
       "      <td>133</td>\n",
       "      <td>18659</td>\n",
       "      <td>40.33</td>\n",
       "      <td>5158</td>\n",
       "      <td>256.0</td>\n",
       "    </tr>\n",
       "    <tr>\n",
       "      <th>Escherichia</th>\n",
       "      <td>263</td>\n",
       "      <td>245</td>\n",
       "      <td>22931</td>\n",
       "      <td>44.41</td>\n",
       "      <td>5316</td>\n",
       "      <td>260.5</td>\n",
       "    </tr>\n",
       "    <tr>\n",
       "      <th>Mycobacterium</th>\n",
       "      <td>527</td>\n",
       "      <td>527</td>\n",
       "      <td>53012</td>\n",
       "      <td>36.93</td>\n",
       "      <td>7332</td>\n",
       "      <td>271.0</td>\n",
       "    </tr>\n",
       "  </tbody>\n",
       "</table>\n",
       "</div>"
      ],
      "text/plain": [
       "               Proteomes number  Filtered proteomes number  \\\n",
       "Phages group                                                 \n",
       "Bacillus                    149                        133   \n",
       "Escherichia                 263                        245   \n",
       "Mycobacterium               527                        527   \n",
       "\n",
       "               Total sequence number in filtered proteomes  \\\n",
       "Phages group                                                 \n",
       "Bacillus                                             18659   \n",
       "Escherichia                                          22931   \n",
       "Mycobacterium                                        53012   \n",
       "\n",
       "               Percentage of sequences of min. 150 aa length among  \\\n",
       "Phages group                                                         \n",
       "Bacillus                                                   40.33     \n",
       "Escherichia                                                44.41     \n",
       "Mycobacterium                                              36.93     \n",
       "\n",
       "               Total number of sequences in panproteome  \\\n",
       "Phages group                                              \n",
       "Bacillus                                           5158   \n",
       "Escherichia                                        5316   \n",
       "Mycobacterium                                      7332   \n",
       "\n",
       "               Median sequence length in panproteome  \n",
       "Phages group                                          \n",
       "Bacillus                                       256.0  \n",
       "Escherichia                                    260.5  \n",
       "Mycobacterium                                  271.0  "
      ]
     },
     "metadata": {},
     "output_type": "display_data"
    }
   ],
   "source": [
    "phages_filtered_summary_dict = {}\n",
    "\n",
    "for group in ['bacillus', 'escherichia', 'mycobacterium']:\n",
    "    proteomes_no = 0\n",
    "    filtered_proteomes_no = 0\n",
    "    filtered_prot_seq_no = 0\n",
    "    filtered_prot_seq_over_150_no = 0\n",
    "    \n",
    "    for proteome in os.listdir('data/Phages_proteomes/{}'.format(group)):\n",
    "        if proteome == '.DS_Store': continue\n",
    "            \n",
    "        proteomes_no += 1\n",
    "        f1 = gzip.open('data/Phages_proteomes/{}/{}'.format(group, proteome), \"rt\")\n",
    "        total_seq_no = 0 # no of all seq in proteome\n",
    "        over_150_seq_no = 0\n",
    "        \n",
    "        for seq in SeqIO.parse(f1, \"fasta\"):\n",
    "            total_seq_no += 1\n",
    "            if len(seq.seq) >= 150: over_150_seq_no +=1 \n",
    "    \n",
    "        f1.close()\n",
    "        if total_seq_no >= 40:\n",
    "            filtered_proteomes_no += 1\n",
    "            filtered_prot_seq_no += total_seq_no \n",
    "            filtered_prot_seq_over_150_no += over_150_seq_no\n",
    "    \n",
    "    f2 = gzip.open('data/Phages_proteomes/after_cd-hit/{}/clustered_proteome.fasta.gz'.format(group), \"rt\")\n",
    "    cdhit_seq_no = 0\n",
    "    cdhit_seq_len = []\n",
    "    for seq in SeqIO.parse(f2, \"fasta\"):\n",
    "        cdhit_seq_no += 1\n",
    "        cdhit_seq_len.append(len(seq.seq))\n",
    "        \n",
    "    phages_filtered_summary_dict[group.capitalize()] = [proteomes_no, filtered_proteomes_no,\n",
    "                                               filtered_prot_seq_no, \n",
    "                                               round(100 * filtered_prot_seq_over_150_no/filtered_prot_seq_no, 2),\n",
    "                                               cdhit_seq_no, statistics.median(cdhit_seq_len)\n",
    "                                                       ]\n",
    "columns = ['Proteomes number', \n",
    "           'Filtered proteomes number', 'Total sequence number in filtered proteomes',\n",
    "           'Fraction of sequences from filtered proteomes used for cd-hit', \n",
    "           'Total number of sequences in panproteome', 'Median sequence length in panproteome']\n",
    "\n",
    "df_summary_phages = pd.DataFrame.from_dict(phages_filtered_summary_dict, orient='index', columns = columns)                      \n",
    "df_summary_phages.index.name = 'Phages group'\n",
    "display(df_summary_phages)\n",
    "df_summary_phages.to_csv('results/supplementary/Table_phages_proteomes_summary.tsv', sep='\\t')       "
   ]
  },
  {
   "cell_type": "markdown",
   "metadata": {},
   "source": [
    "# 7. Download table with information about pupylated proteins in Bacteria"
   ]
  },
  {
   "cell_type": "code",
   "execution_count": null,
   "metadata": {},
   "outputs": [],
   "source": [
    "%%bash\n",
    "wget https://cwtung.kmu.edu.tw/pupdb/pupdb_export.tab -P data"
   ]
  }
 ],
 "metadata": {
  "kernelspec": {
   "display_name": "Python 3 (ipykernel)",
   "language": "python",
   "name": "python3"
  },
  "language_info": {
   "codemirror_mode": {
    "name": "ipython",
    "version": 3
   },
   "file_extension": ".py",
   "mimetype": "text/x-python",
   "name": "python",
   "nbconvert_exporter": "python",
   "pygments_lexer": "ipython3",
   "version": "3.9.12"
  }
 },
 "nbformat": 4,
 "nbformat_minor": 2
}
